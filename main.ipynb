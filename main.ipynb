{
 "cells": [
  {
   "cell_type": "code",
   "execution_count": 1,
   "metadata": {},
   "outputs": [
    {
     "data": {
      "text/plain": [
       "'Artworks.json'"
      ]
     },
     "execution_count": 1,
     "metadata": {},
     "output_type": "execute_result"
    }
   ],
   "source": [
    "art_work_path = 'Artworks.json'\n",
    "artist_file_path  = 'Artists.json'\n",
    "art_work_path"
   ]
  },
  {
   "cell_type": "code",
   "execution_count": 2,
   "metadata": {},
   "outputs": [],
   "source": [
    "import requests\n",
    "import json\n",
    "from datetime import datetime"
   ]
  },
  {
   "cell_type": "code",
   "execution_count": 3,
   "metadata": {},
   "outputs": [
    {
     "data": {
      "text/plain": [
       "{'ConstituentID': 1,\n",
       " 'DisplayName': 'Robert Arneson',\n",
       " 'ArtistBio': 'American, 1930–1992',\n",
       " 'Nationality': 'American',\n",
       " 'Gender': 'male',\n",
       " 'BeginDate': 1930,\n",
       " 'EndDate': 1992,\n",
       " 'Wiki QID': None,\n",
       " 'ULAN': None}"
      ]
     },
     "execution_count": 3,
     "metadata": {},
     "output_type": "execute_result"
    }
   ],
   "source": [
    "import json\n",
    "file = open(artist_file_path, 'r')\n",
    "artist_data = json.load(file)\n",
    "file.close()\n",
    "artist_data[0]"
   ]
  },
  {
   "cell_type": "code",
   "execution_count": 4,
   "metadata": {},
   "outputs": [
    {
     "data": {
      "text/plain": [
       "datetime.date(1990, 1, 1)"
      ]
     },
     "execution_count": 4,
     "metadata": {},
     "output_type": "execute_result"
    }
   ],
   "source": [
    "datetime.date( datetime.strptime(\"1990\",\"%Y\"))"
   ]
  },
  {
   "cell_type": "code",
   "execution_count": 5,
   "metadata": {},
   "outputs": [],
   "source": [
    "lis =[]\n",
    "gender = ['male','female']\n",
    "for artist in artist_data:\n",
    "    # birth =datetime.date(  datetime.strptime(str(artist[\"BeginDate\"]),\"%Y\")) if artist[\"BeginDate\"] !=0 else \"null\"\n",
    "    # died = datetime.date(datetime.strptime(str(artist[\"EndDate\"]),\"%Y\")) if artist[\"EndDate\"] !=0 else \"null\",\n",
    "    birth = f'{artist[\"BeginDate\"]}-01-01' if artist[\"BeginDate\"] !=0 else None\n",
    "    died = f'{artist[\"EndDate\"]}-01-01' if artist[\"EndDate\"] !=0 else None\n",
    "    if birth == None:\n",
    "        continue\n",
    "    elif died == None:\n",
    "        continue\n",
    "    if artist[\"Gender\"] not in gender:\n",
    "        continue\n",
    "    temp = {\n",
    "    \"name\": artist[\"DisplayName\"],\n",
    "    \"description\": None,\n",
    "    \"artist_bio\": artist[\"ArtistBio\"],\n",
    "    \"epoch\": None,\n",
    "    \"gender\": artist[\"Gender\"],\n",
    "    \"origin_country\": artist[\"Nationality\"],\n",
    "\"date_of_birth\":birth,\n",
    "    \"date_of_died\": died,\n",
    "    \"wiki_qid\": artist[\"Wiki QID\"],\n",
    "    \"ulan\": artist[\"ULAN\"]\n",
    "    }\n",
    "    lis.append(temp)"
   ]
  },
  {
   "cell_type": "code",
   "execution_count": 6,
   "metadata": {},
   "outputs": [
    {
     "name": "stdout",
     "output_type": "stream",
     "text": [
      "5294\n",
      "15569\n",
      "{'name': 'Robert Arneson', 'description': None, 'artist_bio': 'American, 1930–1992', 'epoch': None, 'gender': 'male', 'origin_country': 'American', 'date_of_birth': '1930-01-01', 'date_of_died': '1992-01-01', 'wiki_qid': None, 'ulan': None}\n"
     ]
    }
   ],
   "source": [
    "print(len(lis))\n",
    "print(len(artist_data))\n",
    "print(lis[0])"
   ]
  },
  {
   "cell_type": "code",
   "execution_count": 9,
   "metadata": {},
   "outputs": [
    {
     "name": "stdout",
     "output_type": "stream",
     "text": [
      "da\n"
     ]
    }
   ],
   "source": [
    "print(\"da\")"
   ]
  },
  {
   "cell_type": "code",
   "execution_count": 9,
   "metadata": {},
   "outputs": [
    {
     "data": {
      "text/plain": [
       "106"
      ]
     },
     "execution_count": 9,
     "metadata": {},
     "output_type": "execute_result"
    }
   ],
   "source": [
    "data = lis[::50]\n",
    "len(data)"
   ]
  },
  {
   "cell_type": "code",
   "execution_count": null,
   "metadata": {},
   "outputs": [],
   "source": []
  },
  {
   "cell_type": "code",
   "execution_count": 12,
   "metadata": {},
   "outputs": [],
   "source": [
    "import requests\n",
    "end_point = \"http://localhost:8000/api/v1/museum/create/artist\"\n",
    "\n",
    "res = requests.post(end_point, data=json.dumps(data))\n"
   ]
  },
  {
   "cell_type": "code",
   "execution_count": 13,
   "metadata": {},
   "outputs": [
    {
     "data": {
      "text/plain": [
       "'{\"message\":\"artist created successfully\",\"data\":{\"new_artists\":[{\"id\":\"82b07ba9-44cc-4ff5-86de-372a45ec6bdb\",\"description\":null,\"gender\":\"male\",\"date_of_birth\":\"1930-01-01\",\"wiki_qid\":null,\"created_at\":\"2024-06-10T21:14:58.913581\",\"artist_bio\":\"American, 1930–1992\",\"name\":\"Robert Arneson\",\"origin_country\":\"American\",\"date_of_died\":\"1992-01-01\",\"ulan\":null,\"updated_at\":\"2024-06-10T21:14:58.913581\"},{\"id\":\"85edce03-52cd-4ca0-bf1d-c64ec44aa920\",\"description\":null,\"gender\":\"male\",\"date_of_birth\":\"1888-01-01\",\"wiki_qid\":\"Q170071\",\"created_at\":\"2024-06-10T21:14:58.913581\",\"artist_bio\":\"American, born Germany. 1888–1976\",\"name\":\"Josef Albers\",\"origin_country\":\"American\",\"date_of_died\":\"1976-01-01\",\"ulan\":\"500033049\",\"updated_at\":\"2024-06-10T21:14:58.913581\"},{\"id\":\"4b047d2b-2e19-48c3-b0fc-db8630b4ae16\",\"description\":null,\"gender\":\"female\",\"date_of_birth\":\"1923-01-01\",\"wiki_qid\":\"Q234608\",\"created_at\":\"2024-06-10T21:14:58.913581\",\"artist_bio\":\"American, 1923–1971\",\"name\":\"Diane Arbus\",\"origin_country\":\"American\",\"date_of_died\":\"1971-01-01\",\"ulan\":\"500012758\",\"updated_at\":\"2024-06-10T21:14:58.913581\"},{\"id\":\"7eca4cbf-88ae-40ae-af26-a52fee5cdb0a\",\"description\":null,\"gender\":\"male\",\"date_of_birth\":\"1952-01-01\",\"wiki_qid\":null,\"created_at\":\"2024-06-10T21:14:58.913581\",\"artist_bio\":\"American, 1952–1990\",\"name\":\"Larry Bair\",\"origin_country\":\"American\",\"date_of_died\":\"1990-01-01\",\"ulan\":null,\"updated_at\":\"2024-06-10T21:14:58.913581\"},{\"id\":\"51c28616-083b-40d4-97bc-cf3861dc6186\",\"description\":null,\"gender\":\"male\",\"date_of_birth\":\"1943-01-01\",\"wiki_qid\":null,\"created_at\":\"2024-06-10T21:14:58.913581\",\"artist_bio\":\"American, 1943–1976\",\"name\":\"John Battan\",\"origin_country\":\"American\",\"date_of_died\":\"1976-01-01\",\"ulan\":null,\"updated_at\":\"2024-06-10T21:14:58.913581\"},{\"id\":\"1c07ad8a-04d6-4ce3-8da6-fe25fb0e2ca6\",\"description\":null,\"gender\":\"male\",\"date_of_birth\":\"1949-01-01\",\"wiki_qid\":null,\"created_at\":\"2024-06-10T21:14:58.913581\",\"artist_bio\":\"Congolese, 1949–2003\",\"name\":\"Christian Belpaire\",\"origin_country\":\"Congolese\",\"date_of_died\":\"2003-01-01\",\"ulan\":null,\"updated_at\":\"2024-06-10T21:14:58.913581\"},{\"id\":\"37a1b9e9-d0c4-4723-837b-1e797f20755c\",\"description\":null,\"gender\":\"male\",\"date_of_birth\":\"1921-01-01\",\"wiki_qid\":\"Q153965\",\"created_at\":\"2024-06-10T21:14:58.913581\",\"artist_bio\":\"German, 1921–1986\",\"name\":\"Joseph Beuys\",\"origin_country\":\"German\",\"date_of_died\":\"1986-01-01\",\"ulan\":\"500024607\",\"updated_at\":\"2024-06-10T21:14:58.913581\"},{\"id\":\"e172e0c9-8eb8-43bf-8577-c5e54aea06a1\",\"description\":null,\"gender\":\"male\",\"date_of_birth\":\"1928-01-01\",\"wiki_qid\":null,\"created_at\":\"2024-06-10T21:14:58.913581\",\"artist_bio\":\"American, 1928–2021\",\"name\":\"Peter Bodnar\",\"origin_country\":\"American\",\"date_of_died\":\"2021-01-01\",\"ulan\":null,\"updated_at\":\"2024-06-10T21:14:58.913581\"},{\"id\":\"244360dd-2604-4aa2-91a3-f829e945eff8\",\"description\":null,\"gender\":\"male\",\"date_of_birth\":\"1928-01-01\",\"wiki_qid\":null,\"created_at\":\"2024-06-10T21:14:58.913581\",\"artist_bio\":\"American, 1928–2010\",\"name\":\"James Boynton\",\"origin_country\":\"American\",\"date_of_died\":\"2010-01-01\",\"ulan\":null,\"updated_at\":\"2024-06-10T21:14:58.913581\"},{\"id\":\"f8a31163-8a66-4633-9875-6ccb9d7db8dc\",\"description\":null,\"gender\":\"male\",\"date_of_birth\":\"1941-01-01\",\"wiki_qid\":\"Q15487281\",\"created_at\":\"2024-06-10T21:14:58.913581\",\"artist_bio\":\"American, 1941–1997\",\"name\":\"Roger Brown\",\"origin_country\":\"American\",\"date_of_died\":\"1997-01-01\",\"ulan\":\"500017835\",\"updated_at\":\"2024-06-10T21:14:58.913581\"},{\"id\":\"c0663098-1f5a-4640-bbab-531ef3d34713\",\"description\":null,\"gender\":\"male\",\"date_of_birth\":\"1904-01-01\",\"wiki_qid\":\"Q519534\",\"created_at\":\"2024-06-10T21:14:58.913581\",\"artist_bio\":\"American, 1904–1999\",\"name\":\"Paul Cadmus\",\"origin_country\":\"American\",\"date_of_died\":\"1999-01-01\",\"ulan\":\"500009073\",\"updated_at\":\"2024-06-10T21:14:58.913581\"},{\"id\":\"b5ea5fee-254f-4bbb-a178-37ca6ff73ed4\",\"description\":null,\"gender\":\"male\",\"date_of_birth\":\"1908-01-01\",\"wiki_qid\":\"Q156567\",\"created_at\":\"2024-06-10T21:14:58.913581\",\"artist_bio\":\"French, 1908–2004\",\"name\":\"Henri Cartier-Bresson\",\"origin_country\":\"French\",\"date_of_died\":\"2004-01-01\",\"ulan\":\"500115484\",\"updated_at\":\"2024-06-10T21:14:58.913581\"},{\"id\":\"834d628f-809d-4992-8dfd-2df7b6da036d\",\"description\":null,\"gender\":\"male\",\"date_of_birth\":\"1921-01-01\",\"wiki_qid\":\"Q15434488\",\"created_at\":\"2024-06-10T21:14:58.913581\",\"artist_bio\":\"American, 1921–2009\",\"name\":\"Thomas Chimes\",\"origin_country\":\"American\",\"date_of_died\":\"2009-01-01\",\"ulan\":null,\"updated_at\":\"2024-06-10T21:14:58.913581\"},{\"id\":\"3cf98772-36da-498d-a6cd-6ec1d34de51c\",\"description\":null,\"gender\":\"male\",\"date_of_birth\":\"1931-01-01\",\"wiki_qid\":null,\"created_at\":\"2024-06-10T21:14:58.913581\",\"artist_bio\":\"Canadian, 1931–1999\",\"name\":\"Ulysse Comtois\",\"origin_country\":\"Canadian\",\"date_of_died\":\"1999-01-01\",\"ulan\":null,\"updated_at\":\"2024-06-10T21:14:58.913581\"},{\"id\":\"0bd76072-44fc-4016-86fd-559ca1e3b3f7\",\"description\":null,\"gender\":\"male\",\"date_of_birth\":\"1906-01-01\",\"wiki_qid\":\"Q3929822\",\"created_at\":\"2024-06-10T21:14:58.913581\",\"artist_bio\":\"American, born Canada. 1906–1978\",\"name\":\"Ralston Crawford\",\"origin_country\":\"American\",\"date_of_died\":\"1978-01-01\",\"ulan\":\"500029588\",\"updated_at\":\"2024-06-10T21:14:58.913581\"},{\"id\":\"8b86e804-8af9-43a4-9a96-68b9d6971419\",\"description\":null,\"gender\":\"male\",\"date_of_birth\":\"1914-01-01\",\"wiki_qid\":\"Q6967681\",\"created_at\":\"2024-06-10T21:14:58.913581\",\"artist_bio\":\"American, born Greece. 1914–2010\",\"name\":\"Nassos Daphnis\",\"origin_country\":\"American\",\"date_of_died\":\"2010-01-01\",\"ulan\":\"500004321\",\"updated_at\":\"2024-06-10T21:14:58.913581\"},{\"id\":\"1466009e-693e-4be1-99d2-23e76b366145\",\"description\":null,\"gender\":\"male\",\"date_of_birth\":\"1798-01-01\",\"wiki_qid\":\"Q33477\",\"created_at\":\"2024-06-10T21:14:58.913581\",\"artist_bio\":\"French, 1798–1863\",\"name\":\"Eugène Delacroix\",\"origin_country\":\"French\",\"date_of_died\":\"1863-01-01\",\"ulan\":\"500115509\",\"updated_at\":\"2024-06-10T21:14:58.913581\"},{\"id\":\"c4d4b98e-6382-4a4e-9540-d830f19bd702\",\"description\":null,\"gender\":\"male\",\"date_of_birth\":\"1903-01-01\",\"wiki_qid\":\"Q6078751\",\"created_at\":\"2024-06-10T21:14:58.913581\",\"artist_bio\":\"American, 1903–1965\",\"name\":\"Isami Doi\",\"origin_country\":\"American\",\"date_of_died\":\"1965-01-01\",\"ulan\":\"500027090\",\"updated_at\":\"2024-06-10T21:14:58.913581\"},{\"id\":\"6ae3e9ec-fe06-46f8-b2b5-a4070a6d79a5\",\"description\":null,\"gender\":\"male\",\"date_of_birth\":\"1909-01-01\",\"wiki_qid\":null,\"created_at\":\"2024-06-10T21:14:58.913581\",\"artist_bio\":\"American, born Hungary. 1909–1992\",\"name\":\"Arnold Eagle\",\"origin_country\":\"American\",\"date_of_died\":\"1992-01-01\",\"ulan\":null,\"updated_at\":\"2024-06-10T21:14:58.913581\"},{\"id\":\"76ef401e-eb15-494b-bec5-f15c978ebcfd\",\"description\":null,\"gender\":\"male\",\"date_of_birth\":\"1918-01-01\",\"wiki_qid\":null,\"created_at\":\"2024-06-10T21:14:58.913581\",\"artist_bio\":\"Mexican, 1918–1978\",\"name\":\"Jesús Escobedo\",\"origin_country\":\"Mexican\",\"date_of_died\":\"1978-01-01\",\"ulan\":null,\"updated_at\":\"2024-06-10T21:14:58.913581\"},{\"id\":\"76000820-87a3-4106-ae9c-c0dd510a8be6\",\"description\":null,\"gender\":\"male\",\"date_of_birth\":\"1928-01-01\",\"wiki_qid\":null,\"created_at\":\"2024-06-10T21:14:58.913581\",\"artist_bio\":\"Cuban, 1928–2006\",\"name\":\"Agustín Fernández\",\"origin_country\":\"Cuban\",\"date_of_died\":\"2006-01-01\",\"ulan\":null,\"updated_at\":\"2024-06-10T21:14:58.913581\"},{\"id\":\"a9ed109d-e26a-4d2f-b412-e733ca1e157c\",\"description\":null,\"gender\":\"male\",\"date_of_birth\":\"1913-01-01\",\"wiki_qid\":\"Q2847772\",\"created_at\":\"2024-06-10T21:14:58.913581\",\"artist_bio\":\"French, 1913–1998\",\"name\":\"André Fougeron\",\"origin_country\":\"French\",\"date_of_died\":\"1998-01-01\",\"ulan\":\"500022199\",\"updated_at\":\"2024-06-10T21:14:58.913581\"},{\"id\":\"92bdc13e-a033-4309-94b8-b4fe07020221\",\"description\":null,\"gender\":\"male\",\"date_of_birth\":\"1881-01-01\",\"wiki_qid\":\"Q2117132\",\"created_at\":\"2024-06-10T21:14:58.913581\",\"artist_bio\":\"American, 1881–1952\",\"name\":\"A. E. Gallatin\",\"origin_country\":\"American\",\"date_of_died\":\"1952-01-01\",\"ulan\":\"500115733\",\"updated_at\":\"2024-06-10T21:14:58.913581\"},{\"id\":\"f26d1ada-9cb3-4f74-88ac-96c777de71b7\",\"description\":null,\"gender\":\"male\",\"date_of_birth\":\"1882-01-01\",\"wiki_qid\":\"Q551426\",\"created_at\":\"2024-06-10T21:14:58.913581\",\"artist_bio\":\"British, 1882–1940\",\"name\":\"Eric Gill\",\"origin_country\":\"British\",\"date_of_died\":\"1940-01-01\",\"ulan\":\"500025465\",\"updated_at\":\"2024-06-10T21:14:58.913581\"},{\"id\":\"36946f5c-513f-46c2-a680-cabe072ddb10\",\"description\":null,\"gender\":\"male\",\"date_of_birth\":\"1922-01-01\",\"wiki_qid\":null,\"created_at\":\"2024-06-10T21:14:58.913581\",\"artist_bio\":\"Polish, 1922–2004\",\"name\":\"Wiktor Górka\",\"origin_country\":\"Polish\",\"date_of_died\":\"2004-01-01\",\"ulan\":null,\"updated_at\":\"2024-06-10T21:14:58.913581\"},{\"id\":\"c9497a47-36b0-4315-ae07-ccf4a7bd6dce\",\"description\":null,\"gender\":\"male\",\"date_of_birth\":\"1917-01-01\",\"wiki_qid\":null,\"created_at\":\"2024-06-10T21:14:58.913581\",\"artist_bio\":\"American, 1917–2014\",\"name\":\"John Grillo\",\"origin_country\":\"American\",\"date_of_died\":\"2014-01-01\",\"ulan\":null,\"updated_at\":\"2024-06-10T21:14:58.913581\"},{\"id\":\"e40e6d9b-b532-4b03-aefa-dc29cfdf3a5e\",\"description\":null,\"gender\":\"female\",\"date_of_birth\":\"1923-01-01\",\"wiki_qid\":\"Q2405602\",\"created_at\":\"2024-06-10T21:14:58.913581\",\"artist_bio\":\"French, born Czechoslovakia. 1923–2016\",\"name\":\"Terry Haass\",\"origin_country\":\"French\",\"date_of_died\":\"2016-01-01\",\"ulan\":\"500031546\",\"updated_at\":\"2024-06-10T21:14:58.913581\"},{\"id\":\"be73613c-df2e-493b-b885-58ceef162257\",\"description\":null,\"gender\":\"male\",\"date_of_birth\":\"1880-01-01\",\"wiki_qid\":\"Q18626560\",\"created_at\":\"2024-06-10T21:14:58.913581\",\"artist_bio\":\"German, 1880–1955\",\"name\":\"Josef Hartwig\",\"origin_country\":\"German\",\"date_of_died\":\"1955-01-01\",\"ulan\":null,\"updated_at\":\"2024-06-10T21:14:58.913581\"},{\"id\":\"72ba099b-ef40-4254-a316-41a41271a161\",\"description\":null,\"gender\":\"male\",\"date_of_birth\":\"1871-01-01\",\"wiki_qid\":\"Q556534\",\"created_at\":\"2024-06-10T21:14:58.913581\",\"artist_bio\":\"American, 1871–1950\",\"name\":\"Albert Herter\",\"origin_country\":\"American\",\"date_of_died\":\"1950-01-01\",\"ulan\":\"500024105\",\"updated_at\":\"2024-06-10T21:14:58.913581\"},{\"id\":\"4309ab9c-f396-45a1-82c7-ff618aa06fbb\",\"description\":null,\"gender\":\"male\",\"date_of_birth\":\"1869-01-01\",\"wiki_qid\":\"Q5079125\",\"created_at\":\"2024-06-10T21:14:58.913581\",\"artist_bio\":\"American, 1869–1962\",\"name\":\"Charles Hopkinson\",\"origin_country\":\"American\",\"date_of_died\":\"1962-01-01\",\"ulan\":\"500003076\",\"updated_at\":\"2024-06-10T21:14:58.913581\"},{\"id\":\"29efcf5c-7292-4bb0-be6e-06d57da563c6\",\"description\":null,\"gender\":\"female\",\"date_of_birth\":\"1931-01-01\",\"wiki_qid\":null,\"created_at\":\"2024-06-10T21:14:58.913581\",\"artist_bio\":\"Serbian, 1931 – 2009\",\"name\":\"Olja Ivanjicki\",\"origin_country\":\"Serbian\",\"date_of_died\":\"2009-01-01\",\"ulan\":null,\"updated_at\":\"2024-06-10T21:14:58.913581\"},{\"id\":\"44154ce7-f1e5-4fa4-a189-11b699a0a115\",\"description\":null,\"gender\":\"male\",\"date_of_birth\":\"1924-01-01\",\"wiki_qid\":\"Q6252227\",\"created_at\":\"2024-06-10T21:14:58.913581\",\"artist_bio\":\"American, 1924–1999\",\"name\":\"John Paul Jones\",\"origin_country\":\"American\",\"date_of_died\":\"1999-01-01\",\"ulan\":\"500004971\",\"updated_at\":\"2024-06-10T21:14:58.913581\"},{\"id\":\"37b54839-0de6-44fc-b1ac-2327e24d2f61\",\"description\":null,\"gender\":\"male\",\"date_of_birth\":\"1891-01-01\",\"wiki_qid\":null,\"created_at\":\"2024-06-10T21:14:58.913581\",\"artist_bio\":\"Swiss, 1891–1968\",\"name\":\"Ernst Keller\",\"origin_country\":\"Swiss\",\"date_of_died\":\"1968-01-01\",\"ulan\":null,\"updated_at\":\"2024-06-10T21:14:58.913581\"},{\"id\":\"831dfee7-c28f-493a-a3e1-f05a3234a1ba\",\"description\":null,\"gender\":\"male\",\"date_of_birth\":\"1876-01-01\",\"wiki_qid\":\"Q213848\",\"created_at\":\"2024-06-10T21:14:58.913581\",\"artist_bio\":\"German, 1876–1954\",\"name\":\"Cesar Klein\",\"origin_country\":\"German\",\"date_of_died\":\"1954-01-01\",\"ulan\":\"500029590\",\"updated_at\":\"2024-06-10T21:14:58.913581\"},{\"id\":\"4574de4f-a8ad-498b-811e-421733b6fb43\",\"description\":null,\"gender\":\"female\",\"date_of_birth\":\"1908-01-01\",\"wiki_qid\":\"Q237959\",\"created_at\":\"2024-06-10T21:14:58.913581\",\"artist_bio\":\"American, 1908–1984\",\"name\":\"Lee Krasner\",\"origin_country\":\"American\",\"date_of_died\":\"1984-01-01\",\"ulan\":\"500010144\",\"updated_at\":\"2024-06-10T21:14:58.913581\"},{\"id\":\"4cc3b3b4-1eee-4717-94eb-71a15a5e6bb4\",\"description\":null,\"gender\":\"male\",\"date_of_birth\":\"1902-01-01\",\"wiki_qid\":\"Q465342\",\"created_at\":\"2024-06-10T21:14:58.913581\",\"artist_bio\":\"Cuban, 1902–1982\",\"name\":\"Wifredo Lam\",\"origin_country\":\"Cuban\",\"date_of_died\":\"1982-01-01\",\"ulan\":\"500006317\",\"updated_at\":\"2024-06-10T21:14:58.913581\"},{\"id\":\"c2d8e28e-e617-453c-a8d6-96c9d28d0d52\",\"description\":null,\"gender\":\"male\",\"date_of_birth\":\"1878-01-01\",\"wiki_qid\":null,\"created_at\":\"2024-06-10T21:14:58.913581\",\"artist_bio\":\"Dutch, 1878–1945\",\"name\":\"J. J. Christian Lebeau\",\"origin_country\":\"Dutch\",\"date_of_died\":\"1945-01-01\",\"ulan\":null,\"updated_at\":\"2024-06-10T21:14:58.913581\"},{\"id\":\"e89d6d7a-2255-4f67-b345-602072fcc2f4\",\"description\":null,\"gender\":\"male\",\"date_of_birth\":\"1912-01-01\",\"wiki_qid\":\"Q593715\",\"created_at\":\"2024-06-10T21:14:58.913581\",\"artist_bio\":\"American, born Russia. 1912–1999\",\"name\":\"Alexander Liberman\",\"origin_country\":\"American\",\"date_of_died\":\"1999-01-01\",\"ulan\":\"500020756\",\"updated_at\":\"2024-06-10T21:14:58.913581\"},{\"id\":\"93e5dcdc-a0a3-4405-afbb-c4382c7f79f5\",\"description\":null,\"gender\":\"male\",\"date_of_birth\":\"1892-01-01\",\"wiki_qid\":\"Q468453\",\"created_at\":\"2024-06-10T21:14:58.913581\",\"artist_bio\":\"French, 1892–1966\",\"name\":\"Jean Lurçat\",\"origin_country\":\"French\",\"date_of_died\":\"1966-01-01\",\"ulan\":\"500014846\",\"updated_at\":\"2024-06-10T21:14:58.913581\"},{\"id\":\"f3da4dd0-d8c8-43c8-b178-ce6b308f3784\",\"description\":null,\"gender\":\"male\",\"date_of_birth\":\"1873-01-01\",\"wiki_qid\":null,\"created_at\":\"2024-06-10T21:14:58.913581\",\"artist_bio\":\"Mexican, active 1873–c. 1900\",\"name\":\"Manuel Manilla\",\"origin_country\":\"Mexican\",\"date_of_died\":\"1900-01-01\",\"ulan\":null,\"updated_at\":\"2024-06-10T21:14:58.913581\"},{\"id\":\"ada82b2b-8608-4a5d-9243-20606e294f84\",\"description\":null,\"gender\":\"female\",\"date_of_birth\":\"1904-01-01\",\"wiki_qid\":\"Q13560740\",\"created_at\":\"2024-06-10T21:14:58.913581\",\"artist_bio\":\"American, 1904–1971\",\"name\":\"Alice Trumbull Mason\",\"origin_country\":\"American\",\"date_of_died\":\"1971-01-01\",\"ulan\":\"500010243\",\"updated_at\":\"2024-06-10T21:14:58.913581\"},{\"id\":\"38804e0d-e66d-4281-a35d-07ea68c3cc2a\",\"description\":null,\"gender\":\"male\",\"date_of_birth\":\"1936-01-01\",\"wiki_qid\":null,\"created_at\":\"2024-06-10T21:14:58.913581\",\"artist_bio\":\"Moroccan, 1936 – 2020\",\"name\":\"Mohamed Melehi\",\"origin_country\":\"Moroccan\",\"date_of_died\":\"2020-01-01\",\"ulan\":null,\"updated_at\":\"2024-06-10T21:14:58.913581\"},{\"id\":\"a204e744-6778-4de8-aef3-2a460da5940d\",\"description\":null,\"gender\":\"female\",\"date_of_birth\":\"1925-01-01\",\"wiki_qid\":\"Q469934\",\"created_at\":\"2024-06-10T21:14:58.913581\",\"artist_bio\":\"American, 1925–1992\",\"name\":\"Joan Mitchell\",\"origin_country\":\"American\",\"date_of_died\":\"1992-01-01\",\"ulan\":\"500000901\",\"updated_at\":\"2024-06-10T21:14:58.913581\"},{\"id\":\"c24fb664-50f1-4b67-ba4e-c4f6f8b2d1f5\",\"description\":null,\"gender\":\"male\",\"date_of_birth\":\"1915-01-01\",\"wiki_qid\":\"Q165275\",\"created_at\":\"2024-06-10T21:14:58.913581\",\"artist_bio\":\"American, 1915–1991\",\"name\":\"Robert Motherwell\",\"origin_country\":\"American\",\"date_of_died\":\"1991-01-01\",\"ulan\":\"500016415\",\"updated_at\":\"2024-06-10T21:14:58.913581\"},{\"id\":\"fca68175-fc30-4edf-ac77-00184ddcfff9\",\"description\":null,\"gender\":\"female\",\"date_of_birth\":\"1908-01-01\",\"wiki_qid\":\"Q11924144\",\"created_at\":\"2024-06-10T21:14:58.913581\",\"artist_bio\":\"American, born Austria. 1908–1971\",\"name\":\"Gertrud Natzler\",\"origin_country\":\"American\",\"date_of_died\":\"1971-01-01\",\"ulan\":\"500102866\",\"updated_at\":\"2024-06-10T21:14:58.913581\"},{\"id\":\"b816ed2f-c550-47f9-9305-a2568d5b873a\",\"description\":null,\"gender\":\"female\",\"date_of_birth\":\"1905-01-01\",\"wiki_qid\":\"Q5298570\",\"created_at\":\"2024-06-10T21:14:58.913581\",\"artist_bio\":\"American, 1905–1997\",\"name\":\"Dorothy Norman\",\"origin_country\":\"American\",\"date_of_died\":\"1997-01-01\",\"ulan\":\"500071933\",\"updated_at\":\"2024-06-10T21:14:58.913581\"},{\"id\":\"df7e3ca8-0792-44e3-81a5-75a581e566fe\",\"description\":null,\"gender\":\"male\",\"date_of_birth\":\"1926-01-01\",\"wiki_qid\":\"Q5538809\",\"created_at\":\"2024-06-10T21:14:58.913581\",\"artist_bio\":\"American, 1926–2015\",\"name\":\"George Ortman\",\"origin_country\":\"American\",\"date_of_died\":\"2015-01-01\",\"ulan\":\"500000936\",\"updated_at\":\"2024-06-10T21:14:58.913581\"},{\"id\":\"25243c29-0cac-424c-bcfc-a309e22719e5\",\"description\":null,\"gender\":\"male\",\"date_of_birth\":\"1902-01-01\",\"wiki_qid\":null,\"created_at\":\"2024-06-10T21:14:58.913581\",\"artist_bio\":\"Mexican, 1902 – 1995\",\"name\":\"José Pavón\",\"origin_country\":\"Mexican\",\"date_of_died\":\"1995-01-01\",\"ulan\":null,\"updated_at\":\"2024-06-10T21:14:58.913581\"},{\"id\":\"cba9cfe5-53ca-4451-9185-cefa763a1463\",\"description\":null,\"gender\":\"male\",\"date_of_birth\":\"1928-01-01\",\"wiki_qid\":\"Q455115\",\"created_at\":\"2024-06-10T21:14:58.913581\",\"artist_bio\":\"German, 1928–2014\",\"name\":\"Otto Piene\",\"origin_country\":\"German\",\"date_of_died\":\"2014-01-01\",\"ulan\":\"500032357\",\"updated_at\":\"2024-06-10T21:14:58.913581\"},{\"id\":\"3dcb701a-b3cf-4a42-b3ac-22b409ad169f\",\"description\":null,\"gender\":\"male\",\"date_of_birth\":\"1926-01-01\",\"wiki_qid\":null,\"created_at\":\"2024-06-10T21:14:58.913581\",\"artist_bio\":\"American, 1926–1976\",\"name\":\"Charles Pratt\",\"origin_country\":\"American\",\"date_of_died\":\"1976-01-01\",\"ulan\":null,\"updated_at\":\"2024-06-10T21:14:58.913581\"},{\"id\":\"bf1a7f98-2584-4c30-9d87-109e891b8ed7\",\"description\":null,\"gender\":\"male\",\"date_of_birth\":\"1862-01-01\",\"wiki_qid\":null,\"created_at\":\"2024-06-10T21:14:58.913581\",\"artist_bio\":\"French, 1862–1934\",\"name\":\"Armand M. Rassenfosse\",\"origin_country\":\"French\",\"date_of_died\":\"1934-01-01\",\"ulan\":null,\"updated_at\":\"2024-06-10T21:14:58.913581\"},{\"id\":\"735f0c83-0955-4c47-a021-6121c36ba794\",\"description\":null,\"gender\":\"male\",\"date_of_birth\":\"1907-01-01\",\"wiki_qid\":\"Q632656\",\"created_at\":\"2024-06-10T21:14:58.913581\",\"artist_bio\":\"American, 1907–2002\",\"name\":\"George Rickey\",\"origin_country\":\"American\",\"date_of_died\":\"2002-01-01\",\"ulan\":\"500056254\",\"updated_at\":\"2024-06-10T21:14:58.913581\"},{\"id\":\"046fd4bf-b52b-4d74-8b2f-31d1a646de6a\",\"description\":null,\"gender\":\"male\",\"date_of_birth\":\"1919-01-01\",\"wiki_qid\":null,\"created_at\":\"2024-06-10T21:14:58.913581\",\"artist_bio\":\"American, 1919–2006\",\"name\":\"Walter Rosenblum\",\"origin_country\":\"American\",\"date_of_died\":\"2006-01-01\",\"ulan\":null,\"updated_at\":\"2024-06-10T21:14:58.913581\"},{\"id\":\"be4cf13d-4a1e-434d-b1b1-06370c8d8850\",\"description\":null,\"gender\":\"male\",\"date_of_birth\":\"1936-01-01\",\"wiki_qid\":\"Q663175\",\"created_at\":\"2024-06-10T21:14:58.913581\",\"artist_bio\":\"American, born Greece. 1936–2024\",\"name\":\"Lucas Samaras\",\"origin_country\":\"American\",\"date_of_died\":\"2024-01-01\",\"ulan\":\"500021682\",\"updated_at\":\"2024-06-10T21:14:58.913581\"},{\"id\":\"ab42cec2-69bf-48b4-9210-2a0693f32dbc\",\"description\":null,\"gender\":\"male\",\"date_of_birth\":\"1857-01-01\",\"wiki_qid\":null,\"created_at\":\"2024-06-10T21:14:58.913581\",\"artist_bio\":\"American, 1857–1935\",\"name\":\"Louis A. Schmidt\",\"origin_country\":\"American\",\"date_of_died\":\"1935-01-01\",\"ulan\":null,\"updated_at\":\"2024-06-10T21:14:58.913581\"},{\"id\":\"6341a17a-8aaf-48da-b176-4b16ca531dee\",\"description\":null,\"gender\":\"male\",\"date_of_birth\":\"1919-01-01\",\"wiki_qid\":\"Q1529786\",\"created_at\":\"2024-06-10T21:14:58.913581\",\"artist_bio\":\"American, 1919–1983\",\"name\":\"Jason Seley\",\"origin_country\":\"American\",\"date_of_died\":\"1983-01-01\",\"ulan\":\"500110744\",\"updated_at\":\"2024-06-10T21:14:58.913581\"},{\"id\":\"ce5fc0e5-dbfa-4ab0-954e-407647a9cbbe\",\"description\":null,\"gender\":\"female\",\"date_of_birth\":\"1888-01-01\",\"wiki_qid\":\"Q64341\",\"created_at\":\"2024-06-10T21:14:58.913581\",\"artist_bio\":\"German, 1888–1965\",\"name\":\"Renée Sintenis\",\"origin_country\":\"German\",\"date_of_died\":\"1965-01-01\",\"ulan\":\"500076525\",\"updated_at\":\"2024-06-10T21:14:58.913581\"},{\"id\":\"ff3678b3-dd70-4771-bc9f-07ac8d8864d5\",\"description\":null,\"gender\":\"male\",\"date_of_birth\":\"1893-01-01\",\"wiki_qid\":\"Q160141\",\"created_at\":\"2024-06-10T21:14:58.913581\",\"artist_bio\":\"French, 1893–1943\",\"name\":\"Chaim Soutine\",\"origin_country\":\"French\",\"date_of_died\":\"1943-01-01\",\"ulan\":\"500004801\",\"updated_at\":\"2024-06-10T21:14:58.913581\"},{\"id\":\"44c6729c-dea1-4d2c-be7b-4106a3792755\",\"description\":null,\"gender\":\"male\",\"date_of_birth\":\"1903-01-01\",\"wiki_qid\":null,\"created_at\":\"2024-06-10T21:14:58.913581\",\"artist_bio\":\"Danish, 1903–1984\",\"name\":\"Magnus Stephensen\",\"origin_country\":\"Danish\",\"date_of_died\":\"1984-01-01\",\"ulan\":null,\"updated_at\":\"2024-06-10T21:14:58.913581\"},{\"id\":\"174afa63-276d-4bbf-9d1e-64ff1bfbfd1d\",\"description\":null,\"gender\":\"male\",\"date_of_birth\":\"1890-01-01\",\"wiki_qid\":\"Q18421713\",\"created_at\":\"2024-06-10T21:14:58.913581\",\"artist_bio\":\"American, 1890–1944\",\"name\":\"Luke Swank\",\"origin_country\":\"American\",\"date_of_died\":\"1944-01-01\",\"ulan\":\"500037019\",\"updated_at\":\"2024-06-10T21:14:58.913581\"},{\"id\":\"d0a266d6-cbcd-4a7a-a172-40c7e4d8c83a\",\"description\":null,\"gender\":\"male\",\"date_of_birth\":\"1817-01-01\",\"wiki_qid\":null,\"created_at\":\"2024-06-10T21:14:58.913581\",\"artist_bio\":\"French, 1817–1892\",\"name\":\"Félix Teynard\",\"origin_country\":\"French\",\"date_of_died\":\"1892-01-01\",\"ulan\":null,\"updated_at\":\"2024-06-10T21:14:58.913581\"},{\"id\":\"17f51c2d-2521-4214-9c86-8e6b49e4fc2e\",\"description\":null,\"gender\":\"male\",\"date_of_birth\":\"1904-01-01\",\"wiki_qid\":null,\"created_at\":\"2024-06-10T21:14:58.913581\",\"artist_bio\":\"American, 1904–1979\",\"name\":\"Van Day Truex\",\"origin_country\":\"American\",\"date_of_died\":\"1979-01-01\",\"ulan\":null,\"updated_at\":\"2024-06-10T21:14:58.913581\"},{\"id\":\"cf427a01-8fdb-43fe-9249-7a109cea4039\",\"description\":null,\"gender\":\"male\",\"date_of_birth\":\"1925-01-01\",\"wiki_qid\":null,\"created_at\":\"2024-06-10T21:14:58.913581\",\"artist_bio\":\"Dutch, 1925–1990\",\"name\":\"Ed van Der Elsken\",\"origin_country\":\"Dutch\",\"date_of_died\":\"1990-01-01\",\"ulan\":null,\"updated_at\":\"2024-06-10T21:14:58.913581\"},{\"id\":\"9a41b457-841d-4b06-baaf-7f07274381a3\",\"description\":null,\"gender\":\"male\",\"date_of_birth\":\"1861-01-01\",\"wiki_qid\":\"Q1563526\",\"created_at\":\"2024-06-10T21:14:58.913581\",\"artist_bio\":\"French, 1861–1936\",\"name\":\"Louis Vivin\",\"origin_country\":\"French\",\"date_of_died\":\"1936-01-01\",\"ulan\":\"500022853\",\"updated_at\":\"2024-06-10T21:14:58.913581\"},{\"id\":\"7252ebfe-3706-4bc4-9b6d-eb9bca5fa419\",\"description\":null,\"gender\":\"male\",\"date_of_birth\":\"1894-01-01\",\"wiki_qid\":null,\"created_at\":\"2024-06-10T21:14:58.913581\",\"artist_bio\":\"American, 1894–1972\",\"name\":\"Franklin Chenault Watkins\",\"origin_country\":\"American\",\"date_of_died\":\"1972-01-01\",\"ulan\":\"500025403\",\"updated_at\":\"2024-06-10T21:14:58.913581\"},{\"id\":\"5e37e98e-b0b6-40fa-a749-7453adbf4bdf\",\"description\":null,\"gender\":\"male\",\"date_of_birth\":\"1939-01-01\",\"wiki_qid\":null,\"created_at\":\"2024-06-10T21:14:58.913581\",\"artist_bio\":\"Australian, 1939–1992\",\"name\":\"Brett Whiteley\",\"origin_country\":\"Australian\",\"date_of_died\":\"1992-01-01\",\"ulan\":null,\"updated_at\":\"2024-06-10T21:14:58.913581\"},{\"id\":\"7740a569-519e-458f-923b-2d95cfdf569e\",\"description\":null,\"gender\":\"male\",\"date_of_birth\":\"1833-01-01\",\"wiki_qid\":\"Q6284343\",\"created_at\":\"2024-06-10T21:14:58.913581\",\"artist_bio\":\"American, 1833–1884\",\"name\":\"Joseph Janvier Woodward\",\"origin_country\":\"American\",\"date_of_died\":\"1884-01-01\",\"ulan\":null,\"updated_at\":\"2024-06-10T21:14:58.913581\"},{\"id\":\"5718ca11-7df9-4815-9bac-c29185ce78d0\",\"description\":null,\"gender\":\"male\",\"date_of_birth\":\"1898-01-01\",\"wiki_qid\":null,\"created_at\":\"2024-06-10T21:14:58.913581\",\"artist_bio\":\"Mexican, 1898–1967\",\"name\":\"Georges de Zayas\",\"origin_country\":\"Mexican\",\"date_of_died\":\"1967-01-01\",\"ulan\":null,\"updated_at\":\"2024-06-10T21:14:58.913581\"},{\"id\":\"81908cb0-6754-44ce-b7dc-e4a6b8946ea4\",\"description\":null,\"gender\":\"male\",\"date_of_birth\":\"1865-01-01\",\"wiki_qid\":null,\"created_at\":\"2024-06-10T21:14:58.913581\",\"artist_bio\":\"French, 1865–1953\",\"name\":\"L. Levy-Dhurmer\",\"origin_country\":\"French\",\"date_of_died\":\"1953-01-01\",\"ulan\":null,\"updated_at\":\"2024-06-10T21:14:58.913581\"},{\"id\":\"44d7bd70-7b0b-44b1-8e15-660fd815b11e\",\"description\":null,\"gender\":\"male\",\"date_of_birth\":\"1929-01-01\",\"wiki_qid\":null,\"created_at\":\"2024-06-10T21:14:58.913581\",\"artist_bio\":\"Spanish, 1929–1996\",\"name\":\"Daniel Argimón Granell\",\"origin_country\":\"Spanish\",\"date_of_died\":\"1996-01-01\",\"ulan\":null,\"updated_at\":\"2024-06-10T21:14:58.913581\"},{\"id\":\"99f7c2f8-68f0-4d44-9644-2cc2071e1c4c\",\"description\":null,\"gender\":\"male\",\"date_of_birth\":\"1926-01-01\",\"wiki_qid\":null,\"created_at\":\"2024-06-10T21:14:58.913581\",\"artist_bio\":\"British, 1926–2019\",\"name\":\"Leon Kossoff\",\"origin_country\":\"British\",\"date_of_died\":\"2019-01-01\",\"ulan\":null,\"updated_at\":\"2024-06-10T21:14:58.913581\"},{\"id\":\"f16a9d01-cbbf-4d4c-b1ea-1e9668231394\",\"description\":null,\"gender\":\"female\",\"date_of_birth\":\"1920-01-01\",\"wiki_qid\":null,\"created_at\":\"2024-06-10T21:14:58.913581\",\"artist_bio\":\"Austrian, 1920–2006\",\"name\":\"Gretl Wollner\",\"origin_country\":\"Austrian\",\"date_of_died\":\"2006-01-01\",\"ulan\":null,\"updated_at\":\"2024-06-10T21:14:58.913581\"},{\"id\":\"79e25359-7bb6-4a77-87c8-7341eaf0bb88\",\"description\":null,\"gender\":\"male\",\"date_of_birth\":\"1931-01-01\",\"wiki_qid\":\"Q322953\",\"created_at\":\"2024-06-10T21:14:58.913581\",\"artist_bio\":\"Italian, 1931–1997\",\"name\":\"Aldo Rossi\",\"origin_country\":\"Italian\",\"date_of_died\":\"1997-01-01\",\"ulan\":\"500022440\",\"updated_at\":\"2024-06-10T21:14:58.913581\"},{\"id\":\"2dbfdf69-2316-4662-aa31-86bab06f8bd0\",\"description\":null,\"gender\":\"male\",\"date_of_birth\":\"1960-01-01\",\"wiki_qid\":null,\"created_at\":\"2024-06-10T21:14:58.913581\",\"artist_bio\":\"Japanese, 1960–1995\",\"name\":\"Teiji Furuhashi\",\"origin_country\":\"Japanese\",\"date_of_died\":\"1995-01-01\",\"ulan\":null,\"updated_at\":\"2024-06-10T21:14:58.913581\"},{\"id\":\"b42bebe3-8312-4e2f-9e13-7fa8777e41cb\",\"description\":null,\"gender\":\"female\",\"date_of_birth\":\"1898-01-01\",\"wiki_qid\":\"Q16012873\",\"created_at\":\"2024-06-10T21:14:58.913581\",\"artist_bio\":\"American, born Hungary. 1898–1992\",\"name\":\"Sari Dienes\",\"origin_country\":\"American\",\"date_of_died\":\"1992-01-01\",\"ulan\":\"500084847\",\"updated_at\":\"2024-06-10T21:14:58.913581\"},{\"id\":\"09044b79-de76-48a0-9493-57ab8f347480\",\"description\":null,\"gender\":\"male\",\"date_of_birth\":\"1900-01-01\",\"wiki_qid\":null,\"created_at\":\"2024-06-10T21:14:58.913581\",\"artist_bio\":\"French, 1900–1993\",\"name\":\"Pierre Naville\",\"origin_country\":\"French\",\"date_of_died\":\"1993-01-01\",\"ulan\":null,\"updated_at\":\"2024-06-10T21:14:58.913581\"},{\"id\":\"354276aa-ffc5-4fd6-a386-e5fd9f7a9a2c\",\"description\":null,\"gender\":\"male\",\"date_of_birth\":\"1865-01-01\",\"wiki_qid\":null,\"created_at\":\"2024-06-10T21:14:58.913581\",\"artist_bio\":\"American, 1865–1914\",\"name\":\"George Grantham Bain\",\"origin_country\":\"American\",\"date_of_died\":\"1914-01-01\",\"ulan\":null,\"updated_at\":\"2024-06-10T21:14:58.913581\"},{\"id\":\"786632c3-1757-4b20-8204-f524928eb269\",\"description\":null,\"gender\":\"male\",\"date_of_birth\":\"1915-01-01\",\"wiki_qid\":\"Q4738169\",\"created_at\":\"2024-06-10T21:14:58.913581\",\"artist_bio\":\"American, 1915–1955\",\"name\":\"Alvin Lustig\",\"origin_country\":\"American\",\"date_of_died\":\"1955-01-01\",\"ulan\":\"500125903\",\"updated_at\":\"2024-06-10T21:14:58.913581\"},{\"id\":\"eb7aca32-9715-475c-9afc-940cd0cd4e69\",\"description\":null,\"gender\":\"male\",\"date_of_birth\":\"1894-01-01\",\"wiki_qid\":null,\"created_at\":\"2024-06-10T21:14:58.913581\",\"artist_bio\":\"Georgian, 1894–1943\",\"name\":\"Iraklii Gamrekeli\",\"origin_country\":\"Georgian\",\"date_of_died\":\"1943-01-01\",\"ulan\":null,\"updated_at\":\"2024-06-10T21:14:58.913581\"},{\"id\":\"185cd819-fc1b-469a-adac-1979d60ea289\",\"description\":null,\"gender\":\"male\",\"date_of_birth\":\"1918-01-01\",\"wiki_qid\":null,\"created_at\":\"2024-06-10T21:14:58.913581\",\"artist_bio\":\"Mexican, 1918 – 2013\",\"name\":\"Fernando Castro Pacheco\",\"origin_country\":\"Mexican\",\"date_of_died\":\"2013-01-01\",\"ulan\":null,\"updated_at\":\"2024-06-10T21:14:58.913581\"},{\"id\":\"db458880-38e7-4130-ab1f-012ab8056437\",\"description\":null,\"gender\":\"female\",\"date_of_birth\":\"1946-01-01\",\"wiki_qid\":null,\"created_at\":\"2024-06-10T21:14:58.913581\",\"artist_bio\":\"American, 1946–1995\",\"name\":\"Christina Ramberg\",\"origin_country\":\"American\",\"date_of_died\":\"1995-01-01\",\"ulan\":null,\"updated_at\":\"2024-06-10T21:14:58.913581\"},{\"id\":\"4903856a-af97-4bce-9f3f-bad189559208\",\"description\":null,\"gender\":\"male\",\"date_of_birth\":\"1905-01-01\",\"wiki_qid\":null,\"created_at\":\"2024-06-10T21:14:58.913581\",\"artist_bio\":\"Russian, born Kyiv, Russian Empire (now Ukraine). 1905–1964\",\"name\":\"Semyon Fridlyand\",\"origin_country\":\"Russian\",\"date_of_died\":\"1964-01-01\",\"ulan\":null,\"updated_at\":\"2024-06-10T21:14:58.913581\"},{\"id\":\"36755c6f-6185-4768-985d-0efaaf1a11f9\",\"description\":null,\"gender\":\"male\",\"date_of_birth\":\"1882-01-01\",\"wiki_qid\":null,\"created_at\":\"2024-06-10T21:14:58.913581\",\"artist_bio\":\"German, 1882–1961\",\"name\":\"Willi Ruge\",\"origin_country\":\"German\",\"date_of_died\":\"1961-01-01\",\"ulan\":null,\"updated_at\":\"2024-06-10T21:14:58.913581\"},{\"id\":\"e7b774d7-a383-4812-94da-a0e378edbb26\",\"description\":null,\"gender\":\"male\",\"date_of_birth\":\"1915-01-01\",\"wiki_qid\":\"Q24829\",\"created_at\":\"2024-06-10T21:14:58.913581\",\"artist_bio\":\"American, 1915–1985\",\"name\":\"Orson Welles\",\"origin_country\":\"American\",\"date_of_died\":\"1985-01-01\",\"ulan\":\"500274668\",\"updated_at\":\"2024-06-10T21:14:58.913581\"},{\"id\":\"56909d89-0551-4d7d-a30c-80d86d423644\",\"description\":null,\"gender\":\"male\",\"date_of_birth\":\"1955-01-01\",\"wiki_qid\":\"Q723669\",\"created_at\":\"2024-06-10T21:14:58.913581\",\"artist_bio\":\"Spanish, 1955–2000\",\"name\":\"Enric Miralles\",\"origin_country\":\"Spanish\",\"date_of_died\":\"2000-01-01\",\"ulan\":\"500061184\",\"updated_at\":\"2024-06-10T21:14:58.913581\"},{\"id\":\"b4972b66-1dc3-4408-b3d0-5cab88808dce\",\"description\":null,\"gender\":\"male\",\"date_of_birth\":\"1926-01-01\",\"wiki_qid\":\"Q5496473\",\"created_at\":\"2024-06-10T21:14:58.913581\",\"artist_bio\":\"American, 1926–2007\",\"name\":\"Fred W. McDarrah\",\"origin_country\":\"American\",\"date_of_died\":\"2007-01-01\",\"ulan\":\"500074527\",\"updated_at\":\"2024-06-10T21:14:58.913581\"},{\"id\":\"8fe187c3-4aa0-49dd-9d6b-627ca2295eeb\",\"description\":null,\"gender\":\"female\",\"date_of_birth\":\"1921-01-01\",\"wiki_qid\":\"Q469449\",\"created_at\":\"2024-06-10T21:14:58.913581\",\"artist_bio\":\"American, 1921–1985\",\"name\":\"Ruth Orkin\",\"origin_country\":\"American\",\"date_of_died\":\"1985-01-01\",\"ulan\":\"500344047\",\"updated_at\":\"2024-06-10T21:14:58.913581\"},{\"id\":\"0b1f432c-1ba9-4a0b-9758-4e8860ca60be\",\"description\":null,\"gender\":\"male\",\"date_of_birth\":\"1890-01-01\",\"wiki_qid\":null,\"created_at\":\"2024-06-10T21:14:58.913581\",\"artist_bio\":\"German, 1890–1975\",\"name\":\"Karl-Peter Röhl\",\"origin_country\":\"German\",\"date_of_died\":\"1975-01-01\",\"ulan\":null,\"updated_at\":\"2024-06-10T21:14:58.913581\"},{\"id\":\"35c459ae-1bba-4474-bcbc-7cdd6b8a3b26\",\"description\":null,\"gender\":\"male\",\"date_of_birth\":\"1944-01-01\",\"wiki_qid\":null,\"created_at\":\"2024-06-10T21:14:58.913581\",\"artist_bio\":\"German, 1944–1968\",\"name\":\"Peter Roehr\",\"origin_country\":\"German\",\"date_of_died\":\"1968-01-01\",\"ulan\":null,\"updated_at\":\"2024-06-10T21:14:58.913581\"},{\"id\":\"7a79e09d-b39c-4f3a-b06c-9c19c9fffce6\",\"description\":null,\"gender\":\"female\",\"date_of_birth\":\"1904-01-01\",\"wiki_qid\":\"Q215618\",\"created_at\":\"2024-06-10T21:14:58.913581\",\"artist_bio\":\"Argentine, born Germany. 1904–1999\",\"name\":\"Grete Stern\",\"origin_country\":\"Argentine\",\"date_of_died\":\"1999-01-01\",\"ulan\":\"500032972\",\"updated_at\":\"2024-06-10T21:14:58.913581\"},{\"id\":\"e24bce31-024a-4922-a932-7df88181a273\",\"description\":null,\"gender\":\"male\",\"date_of_birth\":\"1849-01-01\",\"wiki_qid\":null,\"created_at\":\"2024-06-10T21:14:58.913581\",\"artist_bio\":\"French, 1849–1903\",\"name\":\"Prospère Henry\",\"origin_country\":\"French\",\"date_of_died\":\"1903-01-01\",\"ulan\":null,\"updated_at\":\"2024-06-10T21:14:58.913581\"},{\"id\":\"e0655815-457e-440d-b842-add8d794073a\",\"description\":null,\"gender\":\"male\",\"date_of_birth\":\"1895-01-01\",\"wiki_qid\":null,\"created_at\":\"2024-06-10T21:14:58.913581\",\"artist_bio\":\"British, 1895–1973\",\"name\":\"Verney L. Danvers\",\"origin_country\":\"British\",\"date_of_died\":\"1973-01-01\",\"ulan\":null,\"updated_at\":\"2024-06-10T21:14:58.913581\"},{\"id\":\"1ae27e01-0244-4f97-9bd4-c8b8807eb60a\",\"description\":null,\"gender\":\"male\",\"date_of_birth\":\"1901-01-01\",\"wiki_qid\":null,\"created_at\":\"2024-06-10T21:14:58.913581\",\"artist_bio\":\"Dutch, 1901–1971\",\"name\":\"Ko Verzuu\",\"origin_country\":\"Dutch\",\"date_of_died\":\"1971-01-01\",\"ulan\":null,\"updated_at\":\"2024-06-10T21:14:58.913581\"},{\"id\":\"393d1d0e-e2d7-4a21-a575-4dd6615a8913\",\"description\":null,\"gender\":\"male\",\"date_of_birth\":\"1924-01-01\",\"wiki_qid\":null,\"created_at\":\"2024-06-10T21:14:58.913581\",\"artist_bio\":\"Croatian, 1924–2018\",\"name\":\"Josip Vaništa\",\"origin_country\":\"Croatian\",\"date_of_died\":\"2018-01-01\",\"ulan\":null,\"updated_at\":\"2024-06-10T21:14:58.913581\"},{\"id\":\"c6bd7828-a298-47c7-87ab-25c6fc4bae7c\",\"description\":null,\"gender\":\"male\",\"date_of_birth\":\"1893-01-01\",\"wiki_qid\":null,\"created_at\":\"2024-06-10T21:14:58.913581\",\"artist_bio\":\"Hungarian, 1893–1966\",\"name\":\"Iván Hevesy\",\"origin_country\":\"Hungarian\",\"date_of_died\":\"1966-01-01\",\"ulan\":null,\"updated_at\":\"2024-06-10T21:14:58.913581\"},{\"id\":\"f5060a49-a842-470c-b445-c67e70c4f10a\",\"description\":null,\"gender\":\"male\",\"date_of_birth\":\"1930-01-01\",\"wiki_qid\":null,\"created_at\":\"2024-06-10T21:14:58.913581\",\"artist_bio\":\"Nigerian, 1930–2014\",\"name\":\"J.D. \\'Okhai Ojeikere\",\"origin_country\":\"Nigerian\",\"date_of_died\":\"2014-01-01\",\"ulan\":null,\"updated_at\":\"2024-06-10T21:14:58.913581\"},{\"id\":\"d7c58439-466d-49bf-9b48-779b355fc9f2\",\"description\":null,\"gender\":\"male\",\"date_of_birth\":\"1941-01-01\",\"wiki_qid\":null,\"created_at\":\"2024-06-10T21:14:58.913581\",\"artist_bio\":\"Mexican, 1941–1989\",\"name\":\"Ulises Carrión\",\"origin_country\":\"Mexican\",\"date_of_died\":\"1989-01-01\",\"ulan\":null,\"updated_at\":\"2024-06-10T21:14:58.913581\"},{\"id\":\"74cb5f16-733b-4f1c-b5c5-d57efdfce59d\",\"description\":null,\"gender\":\"female\",\"date_of_birth\":\"1898-01-01\",\"wiki_qid\":null,\"created_at\":\"2024-06-10T21:14:58.913581\",\"artist_bio\":\"German, 1898–1941\",\"name\":\"Dörte Helm\",\"origin_country\":\"German\",\"date_of_died\":\"1941-01-01\",\"ulan\":null,\"updated_at\":\"2024-06-10T21:14:58.913581\"},{\"id\":\"293a943e-4f1a-4b0d-80e0-5f6f9e662242\",\"description\":null,\"gender\":\"female\",\"date_of_birth\":\"1917-01-01\",\"wiki_qid\":null,\"created_at\":\"2024-06-10T21:14:58.913581\",\"artist_bio\":\"British, 1917–2010\",\"name\":\"Lucienne Day\",\"origin_country\":\"British\",\"date_of_died\":\"2010-01-01\",\"ulan\":null,\"updated_at\":\"2024-06-10T21:14:58.913581\"},{\"id\":\"6707d4d0-d879-4879-ab7e-3138c38b85aa\",\"description\":null,\"gender\":\"male\",\"date_of_birth\":\"1920-01-01\",\"wiki_qid\":null,\"created_at\":\"2024-06-10T21:14:58.913581\",\"artist_bio\":\"Brazilian, 1920–1971\",\"name\":\"Aldo Augusto de Souza Lima\",\"origin_country\":\"Brazilian\",\"date_of_died\":\"1971-01-01\",\"ulan\":null,\"updated_at\":\"2024-06-10T21:14:58.913581\"},{\"id\":\"06781fa8-be6d-41da-8b25-1da00fbdd1ae\",\"description\":null,\"gender\":\"male\",\"date_of_birth\":\"1928-01-01\",\"wiki_qid\":null,\"created_at\":\"2024-06-10T21:14:58.913581\",\"artist_bio\":\"Bosnian, 1928–2018\",\"name\":\"Ivan Štraus\",\"origin_country\":\"Bosnian\",\"date_of_died\":\"2018-01-01\",\"ulan\":null,\"updated_at\":\"2024-06-10T21:14:58.913581\"},{\"id\":\"ce38fce4-e0a6-4d6a-b449-5dd9c0db5560\",\"description\":null,\"gender\":\"male\",\"date_of_birth\":\"1891-01-01\",\"wiki_qid\":null,\"created_at\":\"2024-06-10T21:14:58.913581\",\"artist_bio\":\"American, 1891–1990\",\"name\":\"Irving Schott\",\"origin_country\":\"American\",\"date_of_died\":\"1990-01-01\",\"ulan\":null,\"updated_at\":\"2024-06-10T21:14:58.913581\"},{\"id\":\"707d33a2-62f5-409b-b981-aa909eee78ae\",\"description\":null,\"gender\":\"male\",\"date_of_birth\":\"1912-01-01\",\"wiki_qid\":null,\"created_at\":\"2024-06-10T21:14:58.913581\",\"artist_bio\":\"Japanese, 1912–1992\",\"name\":\"Gen Otsuka\",\"origin_country\":\"Japanese\",\"date_of_died\":\"1992-01-01\",\"ulan\":null,\"updated_at\":\"2024-06-10T21:14:58.913581\"},{\"id\":\"2e37afe8-ad58-4469-a506-9ad74ac75241\",\"description\":null,\"gender\":\"male\",\"date_of_birth\":\"1930-01-01\",\"wiki_qid\":null,\"created_at\":\"2024-06-10T21:14:58.913581\",\"artist_bio\":\"American, 1930 – 1999\",\"name\":\"Shel Silverstein\",\"origin_country\":\"American\",\"date_of_died\":\"1999-01-01\",\"ulan\":null,\"updated_at\":\"2024-06-10T21:14:58.913581\"},{\"id\":\"2f70738a-1d40-43dc-b8dd-1e7ad12f22ff\",\"description\":null,\"gender\":\"male\",\"date_of_birth\":\"1889-01-01\",\"wiki_qid\":null,\"created_at\":\"2024-06-10T21:14:58.913581\",\"artist_bio\":\"American\",\"name\":\"Cassey & Riley\",\"origin_country\":\"American\",\"date_of_died\":\"1891-01-01\",\"ulan\":null,\"updated_at\":\"2024-06-10T21:14:58.913581\"},{\"id\":\"8f060c8f-2d6b-4776-b0b8-409d6e8a5e56\",\"description\":null,\"gender\":\"female\",\"date_of_birth\":\"1884-01-01\",\"wiki_qid\":null,\"created_at\":\"2024-06-10T21:14:58.913581\",\"artist_bio\":\"Austrian, born Prague. 1884 – c. 1931\",\"name\":\"Katharine Schäffner\",\"origin_country\":\"Austrian\",\"date_of_died\":\"1931-01-01\",\"ulan\":null,\"updated_at\":\"2024-06-10T21:14:58.913581\"}],\"artist_exists\":[{\"id\":\"82b07ba9-44cc-4ff5-86de-372a45ec6bdb\",\"description\":null,\"gender\":\"male\",\"date_of_birth\":\"1930-01-01\",\"wiki_qid\":null,\"created_at\":\"2024-06-10T21:14:58.913581\",\"artist_bio\":\"American, 1930–1992\",\"name\":\"Robert Arneson\",\"origin_country\":\"American\",\"date_of_died\":\"1992-01-01\",\"ulan\":null,\"updated_at\":\"2024-06-10T21:14:58.913581\"},{\"id\":\"85edce03-52cd-4ca0-bf1d-c64ec44aa920\",\"description\":null,\"gender\":\"male\",\"date_of_birth\":\"1888-01-01\",\"wiki_qid\":\"Q170071\",\"created_at\":\"2024-06-10T21:14:58.913581\",\"artist_bio\":\"American, born Germany. 1888–1976\",\"name\":\"Josef Albers\",\"origin_country\":\"American\",\"date_of_died\":\"1976-01-01\",\"ulan\":\"500033049\",\"updated_at\":\"2024-06-10T21:14:58.913581\"},{\"id\":\"4b047d2b-2e19-48c3-b0fc-db8630b4ae16\",\"description\":null,\"gender\":\"female\",\"date_of_birth\":\"1923-01-01\",\"wiki_qid\":\"Q234608\",\"created_at\":\"2024-06-10T21:14:58.913581\",\"artist_bio\":\"American, 1923–1971\",\"name\":\"Diane Arbus\",\"origin_country\":\"American\",\"date_of_died\":\"1971-01-01\",\"ulan\":\"500012758\",\"updated_at\":\"2024-06-10T21:14:58.913581\"},{\"id\":\"7eca4cbf-88ae-40ae-af26-a52fee5cdb0a\",\"description\":null,\"gender\":\"male\",\"date_of_birth\":\"1952-01-01\",\"wiki_qid\":null,\"created_at\":\"2024-06-10T21:14:58.913581\",\"artist_bio\":\"American, 1952–1990\",\"name\":\"Larry Bair\",\"origin_country\":\"American\",\"date_of_died\":\"1990-01-01\",\"ulan\":null,\"updated_at\":\"2024-06-10T21:14:58.913581\"},{\"id\":\"51c28616-083b-40d4-97bc-cf3861dc6186\",\"description\":null,\"gender\":\"male\",\"date_of_birth\":\"1943-01-01\",\"wiki_qid\":null,\"created_at\":\"2024-06-10T21:14:58.913581\",\"artist_bio\":\"American, 1943–1976\",\"name\":\"John Battan\",\"origin_country\":\"American\",\"date_of_died\":\"1976-01-01\",\"ulan\":null,\"updated_at\":\"2024-06-10T21:14:58.913581\"},{\"id\":\"1c07ad8a-04d6-4ce3-8da6-fe25fb0e2ca6\",\"description\":null,\"gender\":\"male\",\"date_of_birth\":\"1949-01-01\",\"wiki_qid\":null,\"created_at\":\"2024-06-10T21:14:58.913581\",\"artist_bio\":\"Congolese, 1949–2003\",\"name\":\"Christian Belpaire\",\"origin_country\":\"Congolese\",\"date_of_died\":\"2003-01-01\",\"ulan\":null,\"updated_at\":\"2024-06-10T21:14:58.913581\"},{\"id\":\"37a1b9e9-d0c4-4723-837b-1e797f20755c\",\"description\":null,\"gender\":\"male\",\"date_of_birth\":\"1921-01-01\",\"wiki_qid\":\"Q153965\",\"created_at\":\"2024-06-10T21:14:58.913581\",\"artist_bio\":\"German, 1921–1986\",\"name\":\"Joseph Beuys\",\"origin_country\":\"German\",\"date_of_died\":\"1986-01-01\",\"ulan\":\"500024607\",\"updated_at\":\"2024-06-10T21:14:58.913581\"},{\"id\":\"e172e0c9-8eb8-43bf-8577-c5e54aea06a1\",\"description\":null,\"gender\":\"male\",\"date_of_birth\":\"1928-01-01\",\"wiki_qid\":null,\"created_at\":\"2024-06-10T21:14:58.913581\",\"artist_bio\":\"American, 1928–2021\",\"name\":\"Peter Bodnar\",\"origin_country\":\"American\",\"date_of_died\":\"2021-01-01\",\"ulan\":null,\"updated_at\":\"2024-06-10T21:14:58.913581\"},{\"id\":\"244360dd-2604-4aa2-91a3-f829e945eff8\",\"description\":null,\"gender\":\"male\",\"date_of_birth\":\"1928-01-01\",\"wiki_qid\":null,\"created_at\":\"2024-06-10T21:14:58.913581\",\"artist_bio\":\"American, 1928–2010\",\"name\":\"James Boynton\",\"origin_country\":\"American\",\"date_of_died\":\"2010-01-01\",\"ulan\":null,\"updated_at\":\"2024-06-10T21:14:58.913581\"},{\"id\":\"f8a31163-8a66-4633-9875-6ccb9d7db8dc\",\"description\":null,\"gender\":\"male\",\"date_of_birth\":\"1941-01-01\",\"wiki_qid\":\"Q15487281\",\"created_at\":\"2024-06-10T21:14:58.913581\",\"artist_bio\":\"American, 1941–1997\",\"name\":\"Roger Brown\",\"origin_country\":\"American\",\"date_of_died\":\"1997-01-01\",\"ulan\":\"500017835\",\"updated_at\":\"2024-06-10T21:14:58.913581\"},{\"id\":\"c0663098-1f5a-4640-bbab-531ef3d34713\",\"description\":null,\"gender\":\"male\",\"date_of_birth\":\"1904-01-01\",\"wiki_qid\":\"Q519534\",\"created_at\":\"2024-06-10T21:14:58.913581\",\"artist_bio\":\"American, 1904–1999\",\"name\":\"Paul Cadmus\",\"origin_country\":\"American\",\"date_of_died\":\"1999-01-01\",\"ulan\":\"500009073\",\"updated_at\":\"2024-06-10T21:14:58.913581\"},{\"id\":\"b5ea5fee-254f-4bbb-a178-37ca6ff73ed4\",\"description\":null,\"gender\":\"male\",\"date_of_birth\":\"1908-01-01\",\"wiki_qid\":\"Q156567\",\"created_at\":\"2024-06-10T21:14:58.913581\",\"artist_bio\":\"French, 1908–2004\",\"name\":\"Henri Cartier-Bresson\",\"origin_country\":\"French\",\"date_of_died\":\"2004-01-01\",\"ulan\":\"500115484\",\"updated_at\":\"2024-06-10T21:14:58.913581\"},{\"id\":\"834d628f-809d-4992-8dfd-2df7b6da036d\",\"description\":null,\"gender\":\"male\",\"date_of_birth\":\"1921-01-01\",\"wiki_qid\":\"Q15434488\",\"created_at\":\"2024-06-10T21:14:58.913581\",\"artist_bio\":\"American, 1921–2009\",\"name\":\"Thomas Chimes\",\"origin_country\":\"American\",\"date_of_died\":\"2009-01-01\",\"ulan\":null,\"updated_at\":\"2024-06-10T21:14:58.913581\"},{\"id\":\"3cf98772-36da-498d-a6cd-6ec1d34de51c\",\"description\":null,\"gender\":\"male\",\"date_of_birth\":\"1931-01-01\",\"wiki_qid\":null,\"created_at\":\"2024-06-10T21:14:58.913581\",\"artist_bio\":\"Canadian, 1931–1999\",\"name\":\"Ulysse Comtois\",\"origin_country\":\"Canadian\",\"date_of_died\":\"1999-01-01\",\"ulan\":null,\"updated_at\":\"2024-06-10T21:14:58.913581\"},{\"id\":\"0bd76072-44fc-4016-86fd-559ca1e3b3f7\",\"description\":null,\"gender\":\"male\",\"date_of_birth\":\"1906-01-01\",\"wiki_qid\":\"Q3929822\",\"created_at\":\"2024-06-10T21:14:58.913581\",\"artist_bio\":\"American, born Canada. 1906–1978\",\"name\":\"Ralston Crawford\",\"origin_country\":\"American\",\"date_of_died\":\"1978-01-01\",\"ulan\":\"500029588\",\"updated_at\":\"2024-06-10T21:14:58.913581\"},{\"id\":\"8b86e804-8af9-43a4-9a96-68b9d6971419\",\"description\":null,\"gender\":\"male\",\"date_of_birth\":\"1914-01-01\",\"wiki_qid\":\"Q6967681\",\"created_at\":\"2024-06-10T21:14:58.913581\",\"artist_bio\":\"American, born Greece. 1914–2010\",\"name\":\"Nassos Daphnis\",\"origin_country\":\"American\",\"date_of_died\":\"2010-01-01\",\"ulan\":\"500004321\",\"updated_at\":\"2024-06-10T21:14:58.913581\"},{\"id\":\"1466009e-693e-4be1-99d2-23e76b366145\",\"description\":null,\"gender\":\"male\",\"date_of_birth\":\"1798-01-01\",\"wiki_qid\":\"Q33477\",\"created_at\":\"2024-06-10T21:14:58.913581\",\"artist_bio\":\"French, 1798–1863\",\"name\":\"Eugène Delacroix\",\"origin_country\":\"French\",\"date_of_died\":\"1863-01-01\",\"ulan\":\"500115509\",\"updated_at\":\"2024-06-10T21:14:58.913581\"},{\"id\":\"c4d4b98e-6382-4a4e-9540-d830f19bd702\",\"description\":null,\"gender\":\"male\",\"date_of_birth\":\"1903-01-01\",\"wiki_qid\":\"Q6078751\",\"created_at\":\"2024-06-10T21:14:58.913581\",\"artist_bio\":\"American, 1903–1965\",\"name\":\"Isami Doi\",\"origin_country\":\"American\",\"date_of_died\":\"1965-01-01\",\"ulan\":\"500027090\",\"updated_at\":\"2024-06-10T21:14:58.913581\"},{\"id\":\"6ae3e9ec-fe06-46f8-b2b5-a4070a6d79a5\",\"description\":null,\"gender\":\"male\",\"date_of_birth\":\"1909-01-01\",\"wiki_qid\":null,\"created_at\":\"2024-06-10T21:14:58.913581\",\"artist_bio\":\"American, born Hungary. 1909–1992\",\"name\":\"Arnold Eagle\",\"origin_country\":\"American\",\"date_of_died\":\"1992-01-01\",\"ulan\":null,\"updated_at\":\"2024-06-10T21:14:58.913581\"},{\"id\":\"76ef401e-eb15-494b-bec5-f15c978ebcfd\",\"description\":null,\"gender\":\"male\",\"date_of_birth\":\"1918-01-01\",\"wiki_qid\":null,\"created_at\":\"2024-06-10T21:14:58.913581\",\"artist_bio\":\"Mexican, 1918–1978\",\"name\":\"Jesús Escobedo\",\"origin_country\":\"Mexican\",\"date_of_died\":\"1978-01-01\",\"ulan\":null,\"updated_at\":\"2024-06-10T21:14:58.913581\"},{\"id\":\"76000820-87a3-4106-ae9c-c0dd510a8be6\",\"description\":null,\"gender\":\"male\",\"date_of_birth\":\"1928-01-01\",\"wiki_qid\":null,\"created_at\":\"2024-06-10T21:14:58.913581\",\"artist_bio\":\"Cuban, 1928–2006\",\"name\":\"Agustín Fernández\",\"origin_country\":\"Cuban\",\"date_of_died\":\"2006-01-01\",\"ulan\":null,\"updated_at\":\"2024-06-10T21:14:58.913581\"},{\"id\":\"a9ed109d-e26a-4d2f-b412-e733ca1e157c\",\"description\":null,\"gender\":\"male\",\"date_of_birth\":\"1913-01-01\",\"wiki_qid\":\"Q2847772\",\"created_at\":\"2024-06-10T21:14:58.913581\",\"artist_bio\":\"French, 1913–1998\",\"name\":\"André Fougeron\",\"origin_country\":\"French\",\"date_of_died\":\"1998-01-01\",\"ulan\":\"500022199\",\"updated_at\":\"2024-06-10T21:14:58.913581\"},{\"id\":\"92bdc13e-a033-4309-94b8-b4fe07020221\",\"description\":null,\"gender\":\"male\",\"date_of_birth\":\"1881-01-01\",\"wiki_qid\":\"Q2117132\",\"created_at\":\"2024-06-10T21:14:58.913581\",\"artist_bio\":\"American, 1881–1952\",\"name\":\"A. E. Gallatin\",\"origin_country\":\"American\",\"date_of_died\":\"1952-01-01\",\"ulan\":\"500115733\",\"updated_at\":\"2024-06-10T21:14:58.913581\"},{\"id\":\"f26d1ada-9cb3-4f74-88ac-96c777de71b7\",\"description\":null,\"gender\":\"male\",\"date_of_birth\":\"1882-01-01\",\"wiki_qid\":\"Q551426\",\"created_at\":\"2024-06-10T21:14:58.913581\",\"artist_bio\":\"British, 1882–1940\",\"name\":\"Eric Gill\",\"origin_country\":\"British\",\"date_of_died\":\"1940-01-01\",\"ulan\":\"500025465\",\"updated_at\":\"2024-06-10T21:14:58.913581\"},{\"id\":\"36946f5c-513f-46c2-a680-cabe072ddb10\",\"description\":null,\"gender\":\"male\",\"date_of_birth\":\"1922-01-01\",\"wiki_qid\":null,\"created_at\":\"2024-06-10T21:14:58.913581\",\"artist_bio\":\"Polish, 1922–2004\",\"name\":\"Wiktor Górka\",\"origin_country\":\"Polish\",\"date_of_died\":\"2004-01-01\",\"ulan\":null,\"updated_at\":\"2024-06-10T21:14:58.913581\"},{\"id\":\"c9497a47-36b0-4315-ae07-ccf4a7bd6dce\",\"description\":null,\"gender\":\"male\",\"date_of_birth\":\"1917-01-01\",\"wiki_qid\":null,\"created_at\":\"2024-06-10T21:14:58.913581\",\"artist_bio\":\"American, 1917–2014\",\"name\":\"John Grillo\",\"origin_country\":\"American\",\"date_of_died\":\"2014-01-01\",\"ulan\":null,\"updated_at\":\"2024-06-10T21:14:58.913581\"},{\"id\":\"e40e6d9b-b532-4b03-aefa-dc29cfdf3a5e\",\"description\":null,\"gender\":\"female\",\"date_of_birth\":\"1923-01-01\",\"wiki_qid\":\"Q2405602\",\"created_at\":\"2024-06-10T21:14:58.913581\",\"artist_bio\":\"French, born Czechoslovakia. 1923–2016\",\"name\":\"Terry Haass\",\"origin_country\":\"French\",\"date_of_died\":\"2016-01-01\",\"ulan\":\"500031546\",\"updated_at\":\"2024-06-10T21:14:58.913581\"},{\"id\":\"be73613c-df2e-493b-b885-58ceef162257\",\"description\":null,\"gender\":\"male\",\"date_of_birth\":\"1880-01-01\",\"wiki_qid\":\"Q18626560\",\"created_at\":\"2024-06-10T21:14:58.913581\",\"artist_bio\":\"German, 1880–1955\",\"name\":\"Josef Hartwig\",\"origin_country\":\"German\",\"date_of_died\":\"1955-01-01\",\"ulan\":null,\"updated_at\":\"2024-06-10T21:14:58.913581\"},{\"id\":\"72ba099b-ef40-4254-a316-41a41271a161\",\"description\":null,\"gender\":\"male\",\"date_of_birth\":\"1871-01-01\",\"wiki_qid\":\"Q556534\",\"created_at\":\"2024-06-10T21:14:58.913581\",\"artist_bio\":\"American, 1871–1950\",\"name\":\"Albert Herter\",\"origin_country\":\"American\",\"date_of_died\":\"1950-01-01\",\"ulan\":\"500024105\",\"updated_at\":\"2024-06-10T21:14:58.913581\"},{\"id\":\"4309ab9c-f396-45a1-82c7-ff618aa06fbb\",\"description\":null,\"gender\":\"male\",\"date_of_birth\":\"1869-01-01\",\"wiki_qid\":\"Q5079125\",\"created_at\":\"2024-06-10T21:14:58.913581\",\"artist_bio\":\"American, 1869–1962\",\"name\":\"Charles Hopkinson\",\"origin_country\":\"American\",\"date_of_died\":\"1962-01-01\",\"ulan\":\"500003076\",\"updated_at\":\"2024-06-10T21:14:58.913581\"},{\"id\":\"29efcf5c-7292-4bb0-be6e-06d57da563c6\",\"description\":null,\"gender\":\"female\",\"date_of_birth\":\"1931-01-01\",\"wiki_qid\":null,\"created_at\":\"2024-06-10T21:14:58.913581\",\"artist_bio\":\"Serbian, 1931 – 2009\",\"name\":\"Olja Ivanjicki\",\"origin_country\":\"Serbian\",\"date_of_died\":\"2009-01-01\",\"ulan\":null,\"updated_at\":\"2024-06-10T21:14:58.913581\"},{\"id\":\"44154ce7-f1e5-4fa4-a189-11b699a0a115\",\"description\":null,\"gender\":\"male\",\"date_of_birth\":\"1924-01-01\",\"wiki_qid\":\"Q6252227\",\"created_at\":\"2024-06-10T21:14:58.913581\",\"artist_bio\":\"American, 1924–1999\",\"name\":\"John Paul Jones\",\"origin_country\":\"American\",\"date_of_died\":\"1999-01-01\",\"ulan\":\"500004971\",\"updated_at\":\"2024-06-10T21:14:58.913581\"},{\"id\":\"37b54839-0de6-44fc-b1ac-2327e24d2f61\",\"description\":null,\"gender\":\"male\",\"date_of_birth\":\"1891-01-01\",\"wiki_qid\":null,\"created_at\":\"2024-06-10T21:14:58.913581\",\"artist_bio\":\"Swiss, 1891–1968\",\"name\":\"Ernst Keller\",\"origin_country\":\"Swiss\",\"date_of_died\":\"1968-01-01\",\"ulan\":null,\"updated_at\":\"2024-06-10T21:14:58.913581\"},{\"id\":\"831dfee7-c28f-493a-a3e1-f05a3234a1ba\",\"description\":null,\"gender\":\"male\",\"date_of_birth\":\"1876-01-01\",\"wiki_qid\":\"Q213848\",\"created_at\":\"2024-06-10T21:14:58.913581\",\"artist_bio\":\"German, 1876–1954\",\"name\":\"Cesar Klein\",\"origin_country\":\"German\",\"date_of_died\":\"1954-01-01\",\"ulan\":\"500029590\",\"updated_at\":\"2024-06-10T21:14:58.913581\"},{\"id\":\"4574de4f-a8ad-498b-811e-421733b6fb43\",\"description\":null,\"gender\":\"female\",\"date_of_birth\":\"1908-01-01\",\"wiki_qid\":\"Q237959\",\"created_at\":\"2024-06-10T21:14:58.913581\",\"artist_bio\":\"American, 1908–1984\",\"name\":\"Lee Krasner\",\"origin_country\":\"American\",\"date_of_died\":\"1984-01-01\",\"ulan\":\"500010144\",\"updated_at\":\"2024-06-10T21:14:58.913581\"},{\"id\":\"4cc3b3b4-1eee-4717-94eb-71a15a5e6bb4\",\"description\":null,\"gender\":\"male\",\"date_of_birth\":\"1902-01-01\",\"wiki_qid\":\"Q465342\",\"created_at\":\"2024-06-10T21:14:58.913581\",\"artist_bio\":\"Cuban, 1902–1982\",\"name\":\"Wifredo Lam\",\"origin_country\":\"Cuban\",\"date_of_died\":\"1982-01-01\",\"ulan\":\"500006317\",\"updated_at\":\"2024-06-10T21:14:58.913581\"},{\"id\":\"c2d8e28e-e617-453c-a8d6-96c9d28d0d52\",\"description\":null,\"gender\":\"male\",\"date_of_birth\":\"1878-01-01\",\"wiki_qid\":null,\"created_at\":\"2024-06-10T21:14:58.913581\",\"artist_bio\":\"Dutch, 1878–1945\",\"name\":\"J. J. Christian Lebeau\",\"origin_country\":\"Dutch\",\"date_of_died\":\"1945-01-01\",\"ulan\":null,\"updated_at\":\"2024-06-10T21:14:58.913581\"},{\"id\":\"e89d6d7a-2255-4f67-b345-602072fcc2f4\",\"description\":null,\"gender\":\"male\",\"date_of_birth\":\"1912-01-01\",\"wiki_qid\":\"Q593715\",\"created_at\":\"2024-06-10T21:14:58.913581\",\"artist_bio\":\"American, born Russia. 1912–1999\",\"name\":\"Alexander Liberman\",\"origin_country\":\"American\",\"date_of_died\":\"1999-01-01\",\"ulan\":\"500020756\",\"updated_at\":\"2024-06-10T21:14:58.913581\"},{\"id\":\"93e5dcdc-a0a3-4405-afbb-c4382c7f79f5\",\"description\":null,\"gender\":\"male\",\"date_of_birth\":\"1892-01-01\",\"wiki_qid\":\"Q468453\",\"created_at\":\"2024-06-10T21:14:58.913581\",\"artist_bio\":\"French, 1892–1966\",\"name\":\"Jean Lurçat\",\"origin_country\":\"French\",\"date_of_died\":\"1966-01-01\",\"ulan\":\"500014846\",\"updated_at\":\"2024-06-10T21:14:58.913581\"},{\"id\":\"f3da4dd0-d8c8-43c8-b178-ce6b308f3784\",\"description\":null,\"gender\":\"male\",\"date_of_birth\":\"1873-01-01\",\"wiki_qid\":null,\"created_at\":\"2024-06-10T21:14:58.913581\",\"artist_bio\":\"Mexican, active 1873–c. 1900\",\"name\":\"Manuel Manilla\",\"origin_country\":\"Mexican\",\"date_of_died\":\"1900-01-01\",\"ulan\":null,\"updated_at\":\"2024-06-10T21:14:58.913581\"},{\"id\":\"ada82b2b-8608-4a5d-9243-20606e294f84\",\"description\":null,\"gender\":\"female\",\"date_of_birth\":\"1904-01-01\",\"wiki_qid\":\"Q13560740\",\"created_at\":\"2024-06-10T21:14:58.913581\",\"artist_bio\":\"American, 1904–1971\",\"name\":\"Alice Trumbull Mason\",\"origin_country\":\"American\",\"date_of_died\":\"1971-01-01\",\"ulan\":\"500010243\",\"updated_at\":\"2024-06-10T21:14:58.913581\"},{\"id\":\"38804e0d-e66d-4281-a35d-07ea68c3cc2a\",\"description\":null,\"gender\":\"male\",\"date_of_birth\":\"1936-01-01\",\"wiki_qid\":null,\"created_at\":\"2024-06-10T21:14:58.913581\",\"artist_bio\":\"Moroccan, 1936 – 2020\",\"name\":\"Mohamed Melehi\",\"origin_country\":\"Moroccan\",\"date_of_died\":\"2020-01-01\",\"ulan\":null,\"updated_at\":\"2024-06-10T21:14:58.913581\"},{\"id\":\"a204e744-6778-4de8-aef3-2a460da5940d\",\"description\":null,\"gender\":\"female\",\"date_of_birth\":\"1925-01-01\",\"wiki_qid\":\"Q469934\",\"created_at\":\"2024-06-10T21:14:58.913581\",\"artist_bio\":\"American, 1925–1992\",\"name\":\"Joan Mitchell\",\"origin_country\":\"American\",\"date_of_died\":\"1992-01-01\",\"ulan\":\"500000901\",\"updated_at\":\"2024-06-10T21:14:58.913581\"},{\"id\":\"c24fb664-50f1-4b67-ba4e-c4f6f8b2d1f5\",\"description\":null,\"gender\":\"male\",\"date_of_birth\":\"1915-01-01\",\"wiki_qid\":\"Q165275\",\"created_at\":\"2024-06-10T21:14:58.913581\",\"artist_bio\":\"American, 1915–1991\",\"name\":\"Robert Motherwell\",\"origin_country\":\"American\",\"date_of_died\":\"1991-01-01\",\"ulan\":\"500016415\",\"updated_at\":\"2024-06-10T21:14:58.913581\"},{\"id\":\"fca68175-fc30-4edf-ac77-00184ddcfff9\",\"description\":null,\"gender\":\"female\",\"date_of_birth\":\"1908-01-01\",\"wiki_qid\":\"Q11924144\",\"created_at\":\"2024-06-10T21:14:58.913581\",\"artist_bio\":\"American, born Austria. 1908–1971\",\"name\":\"Gertrud Natzler\",\"origin_country\":\"American\",\"date_of_died\":\"1971-01-01\",\"ulan\":\"500102866\",\"updated_at\":\"2024-06-10T21:14:58.913581\"},{\"id\":\"b816ed2f-c550-47f9-9305-a2568d5b873a\",\"description\":null,\"gender\":\"female\",\"date_of_birth\":\"1905-01-01\",\"wiki_qid\":\"Q5298570\",\"created_at\":\"2024-06-10T21:14:58.913581\",\"artist_bio\":\"American, 1905–1997\",\"name\":\"Dorothy Norman\",\"origin_country\":\"American\",\"date_of_died\":\"1997-01-01\",\"ulan\":\"500071933\",\"updated_at\":\"2024-06-10T21:14:58.913581\"},{\"id\":\"df7e3ca8-0792-44e3-81a5-75a581e566fe\",\"description\":null,\"gender\":\"male\",\"date_of_birth\":\"1926-01-01\",\"wiki_qid\":\"Q5538809\",\"created_at\":\"2024-06-10T21:14:58.913581\",\"artist_bio\":\"American, 1926–2015\",\"name\":\"George Ortman\",\"origin_country\":\"American\",\"date_of_died\":\"2015-01-01\",\"ulan\":\"500000936\",\"updated_at\":\"2024-06-10T21:14:58.913581\"},{\"id\":\"25243c29-0cac-424c-bcfc-a309e22719e5\",\"description\":null,\"gender\":\"male\",\"date_of_birth\":\"1902-01-01\",\"wiki_qid\":null,\"created_at\":\"2024-06-10T21:14:58.913581\",\"artist_bio\":\"Mexican, 1902 – 1995\",\"name\":\"José Pavón\",\"origin_country\":\"Mexican\",\"date_of_died\":\"1995-01-01\",\"ulan\":null,\"updated_at\":\"2024-06-10T21:14:58.913581\"},{\"id\":\"cba9cfe5-53ca-4451-9185-cefa763a1463\",\"description\":null,\"gender\":\"male\",\"date_of_birth\":\"1928-01-01\",\"wiki_qid\":\"Q455115\",\"created_at\":\"2024-06-10T21:14:58.913581\",\"artist_bio\":\"German, 1928–2014\",\"name\":\"Otto Piene\",\"origin_country\":\"German\",\"date_of_died\":\"2014-01-01\",\"ulan\":\"500032357\",\"updated_at\":\"2024-06-10T21:14:58.913581\"},{\"id\":\"3dcb701a-b3cf-4a42-b3ac-22b409ad169f\",\"description\":null,\"gender\":\"male\",\"date_of_birth\":\"1926-01-01\",\"wiki_qid\":null,\"created_at\":\"2024-06-10T21:14:58.913581\",\"artist_bio\":\"American, 1926–1976\",\"name\":\"Charles Pratt\",\"origin_country\":\"American\",\"date_of_died\":\"1976-01-01\",\"ulan\":null,\"updated_at\":\"2024-06-10T21:14:58.913581\"},{\"id\":\"bf1a7f98-2584-4c30-9d87-109e891b8ed7\",\"description\":null,\"gender\":\"male\",\"date_of_birth\":\"1862-01-01\",\"wiki_qid\":null,\"created_at\":\"2024-06-10T21:14:58.913581\",\"artist_bio\":\"French, 1862–1934\",\"name\":\"Armand M. Rassenfosse\",\"origin_country\":\"French\",\"date_of_died\":\"1934-01-01\",\"ulan\":null,\"updated_at\":\"2024-06-10T21:14:58.913581\"},{\"id\":\"735f0c83-0955-4c47-a021-6121c36ba794\",\"description\":null,\"gender\":\"male\",\"date_of_birth\":\"1907-01-01\",\"wiki_qid\":\"Q632656\",\"created_at\":\"2024-06-10T21:14:58.913581\",\"artist_bio\":\"American, 1907–2002\",\"name\":\"George Rickey\",\"origin_country\":\"American\",\"date_of_died\":\"2002-01-01\",\"ulan\":\"500056254\",\"updated_at\":\"2024-06-10T21:14:58.913581\"},{\"id\":\"046fd4bf-b52b-4d74-8b2f-31d1a646de6a\",\"description\":null,\"gender\":\"male\",\"date_of_birth\":\"1919-01-01\",\"wiki_qid\":null,\"created_at\":\"2024-06-10T21:14:58.913581\",\"artist_bio\":\"American, 1919–2006\",\"name\":\"Walter Rosenblum\",\"origin_country\":\"American\",\"date_of_died\":\"2006-01-01\",\"ulan\":null,\"updated_at\":\"2024-06-10T21:14:58.913581\"},{\"id\":\"be4cf13d-4a1e-434d-b1b1-06370c8d8850\",\"description\":null,\"gender\":\"male\",\"date_of_birth\":\"1936-01-01\",\"wiki_qid\":\"Q663175\",\"created_at\":\"2024-06-10T21:14:58.913581\",\"artist_bio\":\"American, born Greece. 1936–2024\",\"name\":\"Lucas Samaras\",\"origin_country\":\"American\",\"date_of_died\":\"2024-01-01\",\"ulan\":\"500021682\",\"updated_at\":\"2024-06-10T21:14:58.913581\"},{\"id\":\"ab42cec2-69bf-48b4-9210-2a0693f32dbc\",\"description\":null,\"gender\":\"male\",\"date_of_birth\":\"1857-01-01\",\"wiki_qid\":null,\"created_at\":\"2024-06-10T21:14:58.913581\",\"artist_bio\":\"American, 1857–1935\",\"name\":\"Louis A. Schmidt\",\"origin_country\":\"American\",\"date_of_died\":\"1935-01-01\",\"ulan\":null,\"updated_at\":\"2024-06-10T21:14:58.913581\"},{\"id\":\"6341a17a-8aaf-48da-b176-4b16ca531dee\",\"description\":null,\"gender\":\"male\",\"date_of_birth\":\"1919-01-01\",\"wiki_qid\":\"Q1529786\",\"created_at\":\"2024-06-10T21:14:58.913581\",\"artist_bio\":\"American, 1919–1983\",\"name\":\"Jason Seley\",\"origin_country\":\"American\",\"date_of_died\":\"1983-01-01\",\"ulan\":\"500110744\",\"updated_at\":\"2024-06-10T21:14:58.913581\"},{\"id\":\"ce5fc0e5-dbfa-4ab0-954e-407647a9cbbe\",\"description\":null,\"gender\":\"female\",\"date_of_birth\":\"1888-01-01\",\"wiki_qid\":\"Q64341\",\"created_at\":\"2024-06-10T21:14:58.913581\",\"artist_bio\":\"German, 1888–1965\",\"name\":\"Renée Sintenis\",\"origin_country\":\"German\",\"date_of_died\":\"1965-01-01\",\"ulan\":\"500076525\",\"updated_at\":\"2024-06-10T21:14:58.913581\"},{\"id\":\"ff3678b3-dd70-4771-bc9f-07ac8d8864d5\",\"description\":null,\"gender\":\"male\",\"date_of_birth\":\"1893-01-01\",\"wiki_qid\":\"Q160141\",\"created_at\":\"2024-06-10T21:14:58.913581\",\"artist_bio\":\"French, 1893–1943\",\"name\":\"Chaim Soutine\",\"origin_country\":\"French\",\"date_of_died\":\"1943-01-01\",\"ulan\":\"500004801\",\"updated_at\":\"2024-06-10T21:14:58.913581\"},{\"id\":\"44c6729c-dea1-4d2c-be7b-4106a3792755\",\"description\":null,\"gender\":\"male\",\"date_of_birth\":\"1903-01-01\",\"wiki_qid\":null,\"created_at\":\"2024-06-10T21:14:58.913581\",\"artist_bio\":\"Danish, 1903–1984\",\"name\":\"Magnus Stephensen\",\"origin_country\":\"Danish\",\"date_of_died\":\"1984-01-01\",\"ulan\":null,\"updated_at\":\"2024-06-10T21:14:58.913581\"},{\"id\":\"174afa63-276d-4bbf-9d1e-64ff1bfbfd1d\",\"description\":null,\"gender\":\"male\",\"date_of_birth\":\"1890-01-01\",\"wiki_qid\":\"Q18421713\",\"created_at\":\"2024-06-10T21:14:58.913581\",\"artist_bio\":\"American, 1890–1944\",\"name\":\"Luke Swank\",\"origin_country\":\"American\",\"date_of_died\":\"1944-01-01\",\"ulan\":\"500037019\",\"updated_at\":\"2024-06-10T21:14:58.913581\"},{\"id\":\"d0a266d6-cbcd-4a7a-a172-40c7e4d8c83a\",\"description\":null,\"gender\":\"male\",\"date_of_birth\":\"1817-01-01\",\"wiki_qid\":null,\"created_at\":\"2024-06-10T21:14:58.913581\",\"artist_bio\":\"French, 1817–1892\",\"name\":\"Félix Teynard\",\"origin_country\":\"French\",\"date_of_died\":\"1892-01-01\",\"ulan\":null,\"updated_at\":\"2024-06-10T21:14:58.913581\"},{\"id\":\"17f51c2d-2521-4214-9c86-8e6b49e4fc2e\",\"description\":null,\"gender\":\"male\",\"date_of_birth\":\"1904-01-01\",\"wiki_qid\":null,\"created_at\":\"2024-06-10T21:14:58.913581\",\"artist_bio\":\"American, 1904–1979\",\"name\":\"Van Day Truex\",\"origin_country\":\"American\",\"date_of_died\":\"1979-01-01\",\"ulan\":null,\"updated_at\":\"2024-06-10T21:14:58.913581\"},{\"id\":\"cf427a01-8fdb-43fe-9249-7a109cea4039\",\"description\":null,\"gender\":\"male\",\"date_of_birth\":\"1925-01-01\",\"wiki_qid\":null,\"created_at\":\"2024-06-10T21:14:58.913581\",\"artist_bio\":\"Dutch, 1925–1990\",\"name\":\"Ed van Der Elsken\",\"origin_country\":\"Dutch\",\"date_of_died\":\"1990-01-01\",\"ulan\":null,\"updated_at\":\"2024-06-10T21:14:58.913581\"},{\"id\":\"9a41b457-841d-4b06-baaf-7f07274381a3\",\"description\":null,\"gender\":\"male\",\"date_of_birth\":\"1861-01-01\",\"wiki_qid\":\"Q1563526\",\"created_at\":\"2024-06-10T21:14:58.913581\",\"artist_bio\":\"French, 1861–1936\",\"name\":\"Louis Vivin\",\"origin_country\":\"French\",\"date_of_died\":\"1936-01-01\",\"ulan\":\"500022853\",\"updated_at\":\"2024-06-10T21:14:58.913581\"},{\"id\":\"7252ebfe-3706-4bc4-9b6d-eb9bca5fa419\",\"description\":null,\"gender\":\"male\",\"date_of_birth\":\"1894-01-01\",\"wiki_qid\":null,\"created_at\":\"2024-06-10T21:14:58.913581\",\"artist_bio\":\"American, 1894–1972\",\"name\":\"Franklin Chenault Watkins\",\"origin_country\":\"American\",\"date_of_died\":\"1972-01-01\",\"ulan\":\"500025403\",\"updated_at\":\"2024-06-10T21:14:58.913581\"},{\"id\":\"5e37e98e-b0b6-40fa-a749-7453adbf4bdf\",\"description\":null,\"gender\":\"male\",\"date_of_birth\":\"1939-01-01\",\"wiki_qid\":null,\"created_at\":\"2024-06-10T21:14:58.913581\",\"artist_bio\":\"Australian, 1939–1992\",\"name\":\"Brett Whiteley\",\"origin_country\":\"Australian\",\"date_of_died\":\"1992-01-01\",\"ulan\":null,\"updated_at\":\"2024-06-10T21:14:58.913581\"},{\"id\":\"7740a569-519e-458f-923b-2d95cfdf569e\",\"description\":null,\"gender\":\"male\",\"date_of_birth\":\"1833-01-01\",\"wiki_qid\":\"Q6284343\",\"created_at\":\"2024-06-10T21:14:58.913581\",\"artist_bio\":\"American, 1833–1884\",\"name\":\"Joseph Janvier Woodward\",\"origin_country\":\"American\",\"date_of_died\":\"1884-01-01\",\"ulan\":null,\"updated_at\":\"2024-06-10T21:14:58.913581\"},{\"id\":\"5718ca11-7df9-4815-9bac-c29185ce78d0\",\"description\":null,\"gender\":\"male\",\"date_of_birth\":\"1898-01-01\",\"wiki_qid\":null,\"created_at\":\"2024-06-10T21:14:58.913581\",\"artist_bio\":\"Mexican, 1898–1967\",\"name\":\"Georges de Zayas\",\"origin_country\":\"Mexican\",\"date_of_died\":\"1967-01-01\",\"ulan\":null,\"updated_at\":\"2024-06-10T21:14:58.913581\"},{\"id\":\"81908cb0-6754-44ce-b7dc-e4a6b8946ea4\",\"description\":null,\"gender\":\"male\",\"date_of_birth\":\"1865-01-01\",\"wiki_qid\":null,\"created_at\":\"2024-06-10T21:14:58.913581\",\"artist_bio\":\"French, 1865–1953\",\"name\":\"L. Levy-Dhurmer\",\"origin_country\":\"French\",\"date_of_died\":\"1953-01-01\",\"ulan\":null,\"updated_at\":\"2024-06-10T21:14:58.913581\"},{\"id\":\"44d7bd70-7b0b-44b1-8e15-660fd815b11e\",\"description\":null,\"gender\":\"male\",\"date_of_birth\":\"1929-01-01\",\"wiki_qid\":null,\"created_at\":\"2024-06-10T21:14:58.913581\",\"artist_bio\":\"Spanish, 1929–1996\",\"name\":\"Daniel Argimón Granell\",\"origin_country\":\"Spanish\",\"date_of_died\":\"1996-01-01\",\"ulan\":null,\"updated_at\":\"2024-06-10T21:14:58.913581\"},{\"id\":\"99f7c2f8-68f0-4d44-9644-2cc2071e1c4c\",\"description\":null,\"gender\":\"male\",\"date_of_birth\":\"1926-01-01\",\"wiki_qid\":null,\"created_at\":\"2024-06-10T21:14:58.913581\",\"artist_bio\":\"British, 1926–2019\",\"name\":\"Leon Kossoff\",\"origin_country\":\"British\",\"date_of_died\":\"2019-01-01\",\"ulan\":null,\"updated_at\":\"2024-06-10T21:14:58.913581\"},{\"id\":\"f16a9d01-cbbf-4d4c-b1ea-1e9668231394\",\"description\":null,\"gender\":\"female\",\"date_of_birth\":\"1920-01-01\",\"wiki_qid\":null,\"created_at\":\"2024-06-10T21:14:58.913581\",\"artist_bio\":\"Austrian, 1920–2006\",\"name\":\"Gretl Wollner\",\"origin_country\":\"Austrian\",\"date_of_died\":\"2006-01-01\",\"ulan\":null,\"updated_at\":\"2024-06-10T21:14:58.913581\"},{\"id\":\"79e25359-7bb6-4a77-87c8-7341eaf0bb88\",\"description\":null,\"gender\":\"male\",\"date_of_birth\":\"1931-01-01\",\"wiki_qid\":\"Q322953\",\"created_at\":\"2024-06-10T21:14:58.913581\",\"artist_bio\":\"Italian, 1931–1997\",\"name\":\"Aldo Rossi\",\"origin_country\":\"Italian\",\"date_of_died\":\"1997-01-01\",\"ulan\":\"500022440\",\"updated_at\":\"2024-06-10T21:14:58.913581\"},{\"id\":\"2dbfdf69-2316-4662-aa31-86bab06f8bd0\",\"description\":null,\"gender\":\"male\",\"date_of_birth\":\"1960-01-01\",\"wiki_qid\":null,\"created_at\":\"2024-06-10T21:14:58.913581\",\"artist_bio\":\"Japanese, 1960–1995\",\"name\":\"Teiji Furuhashi\",\"origin_country\":\"Japanese\",\"date_of_died\":\"1995-01-01\",\"ulan\":null,\"updated_at\":\"2024-06-10T21:14:58.913581\"},{\"id\":\"b42bebe3-8312-4e2f-9e13-7fa8777e41cb\",\"description\":null,\"gender\":\"female\",\"date_of_birth\":\"1898-01-01\",\"wiki_qid\":\"Q16012873\",\"created_at\":\"2024-06-10T21:14:58.913581\",\"artist_bio\":\"American, born Hungary. 1898–1992\",\"name\":\"Sari Dienes\",\"origin_country\":\"American\",\"date_of_died\":\"1992-01-01\",\"ulan\":\"500084847\",\"updated_at\":\"2024-06-10T21:14:58.913581\"},{\"id\":\"09044b79-de76-48a0-9493-57ab8f347480\",\"description\":null,\"gender\":\"male\",\"date_of_birth\":\"1900-01-01\",\"wiki_qid\":null,\"created_at\":\"2024-06-10T21:14:58.913581\",\"artist_bio\":\"French, 1900–1993\",\"name\":\"Pierre Naville\",\"origin_country\":\"French\",\"date_of_died\":\"1993-01-01\",\"ulan\":null,\"updated_at\":\"2024-06-10T21:14:58.913581\"},{\"id\":\"354276aa-ffc5-4fd6-a386-e5fd9f7a9a2c\",\"description\":null,\"gender\":\"male\",\"date_of_birth\":\"1865-01-01\",\"wiki_qid\":null,\"created_at\":\"2024-06-10T21:14:58.913581\",\"artist_bio\":\"American, 1865–1914\",\"name\":\"George Grantham Bain\",\"origin_country\":\"American\",\"date_of_died\":\"1914-01-01\",\"ulan\":null,\"updated_at\":\"2024-06-10T21:14:58.913581\"},{\"id\":\"786632c3-1757-4b20-8204-f524928eb269\",\"description\":null,\"gender\":\"male\",\"date_of_birth\":\"1915-01-01\",\"wiki_qid\":\"Q4738169\",\"created_at\":\"2024-06-10T21:14:58.913581\",\"artist_bio\":\"American, 1915–1955\",\"name\":\"Alvin Lustig\",\"origin_country\":\"American\",\"date_of_died\":\"1955-01-01\",\"ulan\":\"500125903\",\"updated_at\":\"2024-06-10T21:14:58.913581\"},{\"id\":\"eb7aca32-9715-475c-9afc-940cd0cd4e69\",\"description\":null,\"gender\":\"male\",\"date_of_birth\":\"1894-01-01\",\"wiki_qid\":null,\"created_at\":\"2024-06-10T21:14:58.913581\",\"artist_bio\":\"Georgian, 1894–1943\",\"name\":\"Iraklii Gamrekeli\",\"origin_country\":\"Georgian\",\"date_of_died\":\"1943-01-01\",\"ulan\":null,\"updated_at\":\"2024-06-10T21:14:58.913581\"},{\"id\":\"185cd819-fc1b-469a-adac-1979d60ea289\",\"description\":null,\"gender\":\"male\",\"date_of_birth\":\"1918-01-01\",\"wiki_qid\":null,\"created_at\":\"2024-06-10T21:14:58.913581\",\"artist_bio\":\"Mexican, 1918 – 2013\",\"name\":\"Fernando Castro Pacheco\",\"origin_country\":\"Mexican\",\"date_of_died\":\"2013-01-01\",\"ulan\":null,\"updated_at\":\"2024-06-10T21:14:58.913581\"},{\"id\":\"db458880-38e7-4130-ab1f-012ab8056437\",\"description\":null,\"gender\":\"female\",\"date_of_birth\":\"1946-01-01\",\"wiki_qid\":null,\"created_at\":\"2024-06-10T21:14:58.913581\",\"artist_bio\":\"American, 1946–1995\",\"name\":\"Christina Ramberg\",\"origin_country\":\"American\",\"date_of_died\":\"1995-01-01\",\"ulan\":null,\"updated_at\":\"2024-06-10T21:14:58.913581\"},{\"id\":\"4903856a-af97-4bce-9f3f-bad189559208\",\"description\":null,\"gender\":\"male\",\"date_of_birth\":\"1905-01-01\",\"wiki_qid\":null,\"created_at\":\"2024-06-10T21:14:58.913581\",\"artist_bio\":\"Russian, born Kyiv, Russian Empire (now Ukraine). 1905–1964\",\"name\":\"Semyon Fridlyand\",\"origin_country\":\"Russian\",\"date_of_died\":\"1964-01-01\",\"ulan\":null,\"updated_at\":\"2024-06-10T21:14:58.913581\"},{\"id\":\"36755c6f-6185-4768-985d-0efaaf1a11f9\",\"description\":null,\"gender\":\"male\",\"date_of_birth\":\"1882-01-01\",\"wiki_qid\":null,\"created_at\":\"2024-06-10T21:14:58.913581\",\"artist_bio\":\"German, 1882–1961\",\"name\":\"Willi Ruge\",\"origin_country\":\"German\",\"date_of_died\":\"1961-01-01\",\"ulan\":null,\"updated_at\":\"2024-06-10T21:14:58.913581\"},{\"id\":\"e7b774d7-a383-4812-94da-a0e378edbb26\",\"description\":null,\"gender\":\"male\",\"date_of_birth\":\"1915-01-01\",\"wiki_qid\":\"Q24829\",\"created_at\":\"2024-06-10T21:14:58.913581\",\"artist_bio\":\"American, 1915–1985\",\"name\":\"Orson Welles\",\"origin_country\":\"American\",\"date_of_died\":\"1985-01-01\",\"ulan\":\"500274668\",\"updated_at\":\"2024-06-10T21:14:58.913581\"},{\"id\":\"56909d89-0551-4d7d-a30c-80d86d423644\",\"description\":null,\"gender\":\"male\",\"date_of_birth\":\"1955-01-01\",\"wiki_qid\":\"Q723669\",\"created_at\":\"2024-06-10T21:14:58.913581\",\"artist_bio\":\"Spanish, 1955–2000\",\"name\":\"Enric Miralles\",\"origin_country\":\"Spanish\",\"date_of_died\":\"2000-01-01\",\"ulan\":\"500061184\",\"updated_at\":\"2024-06-10T21:14:58.913581\"},{\"id\":\"b4972b66-1dc3-4408-b3d0-5cab88808dce\",\"description\":null,\"gender\":\"male\",\"date_of_birth\":\"1926-01-01\",\"wiki_qid\":\"Q5496473\",\"created_at\":\"2024-06-10T21:14:58.913581\",\"artist_bio\":\"American, 1926–2007\",\"name\":\"Fred W. McDarrah\",\"origin_country\":\"American\",\"date_of_died\":\"2007-01-01\",\"ulan\":\"500074527\",\"updated_at\":\"2024-06-10T21:14:58.913581\"},{\"id\":\"8fe187c3-4aa0-49dd-9d6b-627ca2295eeb\",\"description\":null,\"gender\":\"female\",\"date_of_birth\":\"1921-01-01\",\"wiki_qid\":\"Q469449\",\"created_at\":\"2024-06-10T21:14:58.913581\",\"artist_bio\":\"American, 1921–1985\",\"name\":\"Ruth Orkin\",\"origin_country\":\"American\",\"date_of_died\":\"1985-01-01\",\"ulan\":\"500344047\",\"updated_at\":\"2024-06-10T21:14:58.913581\"},{\"id\":\"0b1f432c-1ba9-4a0b-9758-4e8860ca60be\",\"description\":null,\"gender\":\"male\",\"date_of_birth\":\"1890-01-01\",\"wiki_qid\":null,\"created_at\":\"2024-06-10T21:14:58.913581\",\"artist_bio\":\"German, 1890–1975\",\"name\":\"Karl-Peter Röhl\",\"origin_country\":\"German\",\"date_of_died\":\"1975-01-01\",\"ulan\":null,\"updated_at\":\"2024-06-10T21:14:58.913581\"},{\"id\":\"35c459ae-1bba-4474-bcbc-7cdd6b8a3b26\",\"description\":null,\"gender\":\"male\",\"date_of_birth\":\"1944-01-01\",\"wiki_qid\":null,\"created_at\":\"2024-06-10T21:14:58.913581\",\"artist_bio\":\"German, 1944–1968\",\"name\":\"Peter Roehr\",\"origin_country\":\"German\",\"date_of_died\":\"1968-01-01\",\"ulan\":null,\"updated_at\":\"2024-06-10T21:14:58.913581\"},{\"id\":\"7a79e09d-b39c-4f3a-b06c-9c19c9fffce6\",\"description\":null,\"gender\":\"female\",\"date_of_birth\":\"1904-01-01\",\"wiki_qid\":\"Q215618\",\"created_at\":\"2024-06-10T21:14:58.913581\",\"artist_bio\":\"Argentine, born Germany. 1904–1999\",\"name\":\"Grete Stern\",\"origin_country\":\"Argentine\",\"date_of_died\":\"1999-01-01\",\"ulan\":\"500032972\",\"updated_at\":\"2024-06-10T21:14:58.913581\"},{\"id\":\"e24bce31-024a-4922-a932-7df88181a273\",\"description\":null,\"gender\":\"male\",\"date_of_birth\":\"1849-01-01\",\"wiki_qid\":null,\"created_at\":\"2024-06-10T21:14:58.913581\",\"artist_bio\":\"French, 1849–1903\",\"name\":\"Prospère Henry\",\"origin_country\":\"French\",\"date_of_died\":\"1903-01-01\",\"ulan\":null,\"updated_at\":\"2024-06-10T21:14:58.913581\"},{\"id\":\"e0655815-457e-440d-b842-add8d794073a\",\"description\":null,\"gender\":\"male\",\"date_of_birth\":\"1895-01-01\",\"wiki_qid\":null,\"created_at\":\"2024-06-10T21:14:58.913581\",\"artist_bio\":\"British, 1895–1973\",\"name\":\"Verney L. Danvers\",\"origin_country\":\"British\",\"date_of_died\":\"1973-01-01\",\"ulan\":null,\"updated_at\":\"2024-06-10T21:14:58.913581\"},{\"id\":\"1ae27e01-0244-4f97-9bd4-c8b8807eb60a\",\"description\":null,\"gender\":\"male\",\"date_of_birth\":\"1901-01-01\",\"wiki_qid\":null,\"created_at\":\"2024-06-10T21:14:58.913581\",\"artist_bio\":\"Dutch, 1901–1971\",\"name\":\"Ko Verzuu\",\"origin_country\":\"Dutch\",\"date_of_died\":\"1971-01-01\",\"ulan\":null,\"updated_at\":\"2024-06-10T21:14:58.913581\"},{\"id\":\"393d1d0e-e2d7-4a21-a575-4dd6615a8913\",\"description\":null,\"gender\":\"male\",\"date_of_birth\":\"1924-01-01\",\"wiki_qid\":null,\"created_at\":\"2024-06-10T21:14:58.913581\",\"artist_bio\":\"Croatian, 1924–2018\",\"name\":\"Josip Vaništa\",\"origin_country\":\"Croatian\",\"date_of_died\":\"2018-01-01\",\"ulan\":null,\"updated_at\":\"2024-06-10T21:14:58.913581\"},{\"id\":\"c6bd7828-a298-47c7-87ab-25c6fc4bae7c\",\"description\":null,\"gender\":\"male\",\"date_of_birth\":\"1893-01-01\",\"wiki_qid\":null,\"created_at\":\"2024-06-10T21:14:58.913581\",\"artist_bio\":\"Hungarian, 1893–1966\",\"name\":\"Iván Hevesy\",\"origin_country\":\"Hungarian\",\"date_of_died\":\"1966-01-01\",\"ulan\":null,\"updated_at\":\"2024-06-10T21:14:58.913581\"},{\"id\":\"f5060a49-a842-470c-b445-c67e70c4f10a\",\"description\":null,\"gender\":\"male\",\"date_of_birth\":\"1930-01-01\",\"wiki_qid\":null,\"created_at\":\"2024-06-10T21:14:58.913581\",\"artist_bio\":\"Nigerian, 1930–2014\",\"name\":\"J.D. \\'Okhai Ojeikere\",\"origin_country\":\"Nigerian\",\"date_of_died\":\"2014-01-01\",\"ulan\":null,\"updated_at\":\"2024-06-10T21:14:58.913581\"},{\"id\":\"d7c58439-466d-49bf-9b48-779b355fc9f2\",\"description\":null,\"gender\":\"male\",\"date_of_birth\":\"1941-01-01\",\"wiki_qid\":null,\"created_at\":\"2024-06-10T21:14:58.913581\",\"artist_bio\":\"Mexican, 1941–1989\",\"name\":\"Ulises Carrión\",\"origin_country\":\"Mexican\",\"date_of_died\":\"1989-01-01\",\"ulan\":null,\"updated_at\":\"2024-06-10T21:14:58.913581\"},{\"id\":\"74cb5f16-733b-4f1c-b5c5-d57efdfce59d\",\"description\":null,\"gender\":\"female\",\"date_of_birth\":\"1898-01-01\",\"wiki_qid\":null,\"created_at\":\"2024-06-10T21:14:58.913581\",\"artist_bio\":\"German, 1898–1941\",\"name\":\"Dörte Helm\",\"origin_country\":\"German\",\"date_of_died\":\"1941-01-01\",\"ulan\":null,\"updated_at\":\"2024-06-10T21:14:58.913581\"},{\"id\":\"293a943e-4f1a-4b0d-80e0-5f6f9e662242\",\"description\":null,\"gender\":\"female\",\"date_of_birth\":\"1917-01-01\",\"wiki_qid\":null,\"created_at\":\"2024-06-10T21:14:58.913581\",\"artist_bio\":\"British, 1917–2010\",\"name\":\"Lucienne Day\",\"origin_country\":\"British\",\"date_of_died\":\"2010-01-01\",\"ulan\":null,\"updated_at\":\"2024-06-10T21:14:58.913581\"},{\"id\":\"6707d4d0-d879-4879-ab7e-3138c38b85aa\",\"description\":null,\"gender\":\"male\",\"date_of_birth\":\"1920-01-01\",\"wiki_qid\":null,\"created_at\":\"2024-06-10T21:14:58.913581\",\"artist_bio\":\"Brazilian, 1920–1971\",\"name\":\"Aldo Augusto de Souza Lima\",\"origin_country\":\"Brazilian\",\"date_of_died\":\"1971-01-01\",\"ulan\":null,\"updated_at\":\"2024-06-10T21:14:58.913581\"},{\"id\":\"06781fa8-be6d-41da-8b25-1da00fbdd1ae\",\"description\":null,\"gender\":\"male\",\"date_of_birth\":\"1928-01-01\",\"wiki_qid\":null,\"created_at\":\"2024-06-10T21:14:58.913581\",\"artist_bio\":\"Bosnian, 1928–2018\",\"name\":\"Ivan Štraus\",\"origin_country\":\"Bosnian\",\"date_of_died\":\"2018-01-01\",\"ulan\":null,\"updated_at\":\"2024-06-10T21:14:58.913581\"},{\"id\":\"ce38fce4-e0a6-4d6a-b449-5dd9c0db5560\",\"description\":null,\"gender\":\"male\",\"date_of_birth\":\"1891-01-01\",\"wiki_qid\":null,\"created_at\":\"2024-06-10T21:14:58.913581\",\"artist_bio\":\"American, 1891–1990\",\"name\":\"Irving Schott\",\"origin_country\":\"American\",\"date_of_died\":\"1990-01-01\",\"ulan\":null,\"updated_at\":\"2024-06-10T21:14:58.913581\"},{\"id\":\"707d33a2-62f5-409b-b981-aa909eee78ae\",\"description\":null,\"gender\":\"male\",\"date_of_birth\":\"1912-01-01\",\"wiki_qid\":null,\"created_at\":\"2024-06-10T21:14:58.913581\",\"artist_bio\":\"Japanese, 1912–1992\",\"name\":\"Gen Otsuka\",\"origin_country\":\"Japanese\",\"date_of_died\":\"1992-01-01\",\"ulan\":null,\"updated_at\":\"2024-06-10T21:14:58.913581\"},{\"id\":\"2e37afe8-ad58-4469-a506-9ad74ac75241\",\"description\":null,\"gender\":\"male\",\"date_of_birth\":\"1930-01-01\",\"wiki_qid\":null,\"created_at\":\"2024-06-10T21:14:58.913581\",\"artist_bio\":\"American, 1930 – 1999\",\"name\":\"Shel Silverstein\",\"origin_country\":\"American\",\"date_of_died\":\"1999-01-01\",\"ulan\":null,\"updated_at\":\"2024-06-10T21:14:58.913581\"},{\"id\":\"2f70738a-1d40-43dc-b8dd-1e7ad12f22ff\",\"description\":null,\"gender\":\"male\",\"date_of_birth\":\"1889-01-01\",\"wiki_qid\":null,\"created_at\":\"2024-06-10T21:14:58.913581\",\"artist_bio\":\"American\",\"name\":\"Cassey & Riley\",\"origin_country\":\"American\",\"date_of_died\":\"1891-01-01\",\"ulan\":null,\"updated_at\":\"2024-06-10T21:14:58.913581\"},{\"id\":\"8f060c8f-2d6b-4776-b0b8-409d6e8a5e56\",\"description\":null,\"gender\":\"female\",\"date_of_birth\":\"1884-01-01\",\"wiki_qid\":null,\"created_at\":\"2024-06-10T21:14:58.913581\",\"artist_bio\":\"Austrian, born Prague. 1884 – c. 1931\",\"name\":\"Katharine Schäffner\",\"origin_country\":\"Austrian\",\"date_of_died\":\"1931-01-01\",\"ulan\":null,\"updated_at\":\"2024-06-10T21:14:58.913581\"}]}}'"
      ]
     },
     "metadata": {},
     "output_type": "display_data"
    }
   ],
   "source": [
    "display(res.text)"
   ]
  },
  {
   "cell_type": "code",
   "execution_count": 62,
   "metadata": {},
   "outputs": [
    {
     "ename": "TypeError",
     "evalue": "uuid4() takes 0 positional arguments but 1 was given",
     "output_type": "error",
     "traceback": [
      "\u001b[1;31m---------------------------------------------------------------------------\u001b[0m",
      "\u001b[1;31mTypeError\u001b[0m                                 Traceback (most recent call last)",
      "Cell \u001b[1;32mIn[62], line 2\u001b[0m\n\u001b[0;32m      1\u001b[0m \u001b[38;5;28;01mfrom\u001b[39;00m \u001b[38;5;21;01muuid\u001b[39;00m \u001b[38;5;28;01mimport\u001b[39;00m uuid4\n\u001b[1;32m----> 2\u001b[0m \u001b[43muuid4\u001b[49m\u001b[43m(\u001b[49m\u001b[38;5;124;43m\"\u001b[39;49m\u001b[38;5;124;43m8bac6e53-bd66-4928-bb9d-73e4a8f2b901\u001b[39;49m\u001b[38;5;124;43m\"\u001b[39;49m\u001b[43m)\u001b[49m\n",
      "\u001b[1;31mTypeError\u001b[0m: uuid4() takes 0 positional arguments but 1 was given"
     ]
    }
   ],
   "source": [
    "from uuid import uuid4\n",
    "uuid4(\"8bac6e53-bd66-4928-bb9d-73e4a8f2b901\")"
   ]
  },
  {
   "cell_type": "code",
   "execution_count": 63,
   "metadata": {},
   "outputs": [
    {
     "data": {
      "text/plain": [
       "['https://res.cloudinary.com/dixda8etb/image/upload/v1718032050/dbms_project/7b43b07e-fd05-483d-ac47-68529b63b1f8:img:0:_:sculpture.jpg']"
      ]
     },
     "execution_count": 63,
     "metadata": {},
     "output_type": "execute_result"
    }
   ],
   "source": [
    "import json\n",
    "json.loads(\"[\\\"https://res.cloudinary.com/dixda8etb/image/upload/v1718032050/dbms_project/7b43b07e-fd05-483d-ac47-68529b63b1f8:img:0:_:sculpture.jpg\\\"]\")"
   ]
  },
  {
   "cell_type": "markdown",
   "metadata": {},
   "source": [
    "# Posting Art Objects data"
   ]
  },
  {
   "cell_type": "code",
   "execution_count": 20,
   "metadata": {},
   "outputs": [],
   "source": [
    "import json\n",
    "import requests"
   ]
  },
  {
   "cell_type": "code",
   "execution_count": 21,
   "metadata": {},
   "outputs": [],
   "source": [
    "# get the artists \n",
    "res = requests.get(\"http://localhost:8000/api/v1/museum/get/artist/all/0/500\")\n"
   ]
  },
  {
   "cell_type": "code",
   "execution_count": 22,
   "metadata": {},
   "outputs": [
    {
     "data": {
      "text/plain": [
       "{'id': '82b07ba9-44cc-4ff5-86de-372a45ec6bdb',\n",
       " 'description': None,\n",
       " 'gender': 'male',\n",
       " 'date_of_birth': '1930-01-01',\n",
       " 'wiki_qid': None,\n",
       " 'created_at': '2024-06-10T21:14:58.913581',\n",
       " 'artist_bio': 'American, 1930–1992',\n",
       " 'name': 'Robert Arneson',\n",
       " 'origin_country': 'American',\n",
       " 'date_of_died': '1992-01-01',\n",
       " 'ulan': None,\n",
       " 'updated_at': '2024-06-10T21:14:58.913581'}"
      ]
     },
     "execution_count": 22,
     "metadata": {},
     "output_type": "execute_result"
    }
   ],
   "source": [
    "artists = res.json()['data']\n",
    "artists[0]"
   ]
  },
  {
   "cell_type": "code",
   "execution_count": 16,
   "metadata": {},
   "outputs": [],
   "source": [
    "art_work_path = 'Artworks.json'"
   ]
  },
  {
   "cell_type": "code",
   "execution_count": 17,
   "metadata": {},
   "outputs": [],
   "source": [
    "# read local data file\n",
    "local_art_objects=  []\n",
    "file = open(art_work_path, \"r\")\n",
    "temp_data = json.load(file)\n",
    "file.close()    "
   ]
  },
  {
   "cell_type": "code",
   "execution_count": null,
   "metadata": {},
   "outputs": [],
   "source": []
  },
  {
   "cell_type": "code",
   "execution_count": 18,
   "metadata": {},
   "outputs": [
    {
     "data": {
      "text/plain": [
       "{'Title': 'Ferdinandsbrücke Project, Vienna, Austria (Elevation, preliminary version)',\n",
       " 'Artist': ['Otto Wagner'],\n",
       " 'ConstituentID': [6210],\n",
       " 'ArtistBio': ['Austrian, 1841–1918'],\n",
       " 'Nationality': ['Austrian'],\n",
       " 'BeginDate': [1841],\n",
       " 'EndDate': [1918],\n",
       " 'Gender': ['male'],\n",
       " 'Date': '1896',\n",
       " 'Medium': 'Ink and cut-and-pasted painted pages on paper',\n",
       " 'Dimensions': '19 1/8 x 66 1/2\" (48.6 x 168.9 cm)',\n",
       " 'CreditLine': 'Fractional and promised gift of Jo Carole and Ronald S. Lauder',\n",
       " 'AccessionNumber': '885.1996',\n",
       " 'Classification': 'Architecture',\n",
       " 'Department': 'Architecture & Design',\n",
       " 'DateAcquired': '1996-04-09',\n",
       " 'Cataloged': 'Y',\n",
       " 'ObjectID': 2,\n",
       " 'URL': 'https://www.moma.org/collection/works/2',\n",
       " 'ImageURL': 'https://www.moma.org/media/W1siZiIsIjUyNzc3MCJdLFsicCIsImNvbnZlcnQiLCItcmVzaXplIDEwMjR4MTAyNFx1MDAzZSJdXQ.jpg?sha=712ac0fd74ea5bd5',\n",
       " 'OnView': '',\n",
       " 'Height (cm)': 48.6,\n",
       " 'Width (cm)': 168.9}"
      ]
     },
     "execution_count": 18,
     "metadata": {},
     "output_type": "execute_result"
    }
   ],
   "source": [
    "temp_data[0]"
   ]
  },
  {
   "cell_type": "code",
   "execution_count": 61,
   "metadata": {},
   "outputs": [],
   "source": [
    "#temp\n",
    "import requests\n",
    "\n",
    "url = \"http://localhost:8000/api/v1/museum/create/art_object/sculpture\"\n",
    "\n",
    "\n",
    "# Form data\n",
    "data = {\n",
    "    'width': '100',\n",
    "    'height': '100',\n",
    "    'material': 'material',\n",
    "    'epoch': 'epoch',\n",
    "    'dimensions': '12*23',\n",
    "    'style': 'baroque',\n",
    "    'department': 'department',\n",
    "    'artist_id': '8bac6e53-bd66-4928-bb9d-73e4a8f2b901',\n",
    "    'title': 'title',\n",
    "    'weight': '12gm',\n",
    "    'description': 'desc',\n",
    "    'year': '2000',\n",
    "    'origin_country': 'country'\n",
    "}\n",
    "\n",
    "# Files (if you have any)\n",
    "files = {\n",
    "    'files':  ['file.jpg', open('im.jpg', 'rb')]\n",
    "}\n",
    "\n",
    "headers = {\n",
    "    'accept': 'application/json',\n",
    "}\n",
    "\n",
    "response = requests.post(url, data=data, files=files, headers=headers)\n",
    " # Assuming the response is JSON\n",
    "\n"
   ]
  },
  {
   "cell_type": "code",
   "execution_count": 62,
   "metadata": {},
   "outputs": [
    {
     "name": "stdout",
     "output_type": "stream",
     "text": [
      "200\n"
     ]
    },
    {
     "data": {
      "text/plain": [
       "{'message': 'Sculpture Art Object created successfully',\n",
       " 'data': {'artObjectId': 'e81831b5-104b-4c56-9703-1e2b24928a04',\n",
       "  'objectTitle': 'title',\n",
       "  'objectDescription': 'desc',\n",
       "  'objectStyle': 'baroque',\n",
       "  'objectEpoch': 'epoch',\n",
       "  'object_type': 'sculpture',\n",
       "  'objectOriginCountry': 'country',\n",
       "  'objectYear': '2000',\n",
       "  'artistId': '8bac6e53-bd66-4928-bb9d-73e4a8f2b901',\n",
       "  'sculptureMaterial': 'material',\n",
       "  'sculptureHeight': '100',\n",
       "  'sculptureWidth': '12gm',\n",
       "  'sculptureWeight': '12gm',\n",
       "  'sculptureImage': '[\"https://res.cloudinary.com/dixda8etb/image/upload/v1718050707/dbms_project/e81831b5-104b-4c56-9703-1e2b24928a04:img:0:_:sculpture.jpg\"]'}}"
      ]
     },
     "metadata": {},
     "output_type": "display_data"
    }
   ],
   "source": [
    "\n",
    "print(response.status_code)\n",
    "display(response.json())"
   ]
  },
  {
   "cell_type": "code",
   "execution_count": 19,
   "metadata": {},
   "outputs": [
    {
     "data": {
      "text/plain": [
       "{'id': '8bac6e53-bd66-4928-bb9d-73e4a8f2b901',\n",
       " 'artist_bio': 'American, 1930–1992',\n",
       " 'gender': 'male',\n",
       " 'date_of_birth': '1930-01-01',\n",
       " 'wiki_qid': None,\n",
       " 'created_at': '2024-06-10T14:13:54.166150',\n",
       " 'name': 'Robert Arneson',\n",
       " 'description': None,\n",
       " 'origin_country': 'American',\n",
       " 'date_of_died': '1992-01-01',\n",
       " 'ulan': None,\n",
       " 'updated_at': '2024-06-10T14:13:54.166150'}"
      ]
     },
     "execution_count": 19,
     "metadata": {},
     "output_type": "execute_result"
    }
   ],
   "source": [
    "temp_artists = artists[:10]\n",
    "temp_artists[0]"
   ]
  },
  {
   "cell_type": "code",
   "execution_count": 20,
   "metadata": {},
   "outputs": [
    {
     "data": {
      "text/plain": [
       "{'Title': 'Ferdinandsbrücke Project, Vienna, Austria (Elevation, preliminary version)',\n",
       " 'Artist': ['Otto Wagner'],\n",
       " 'ConstituentID': [6210],\n",
       " 'ArtistBio': ['Austrian, 1841–1918'],\n",
       " 'Nationality': ['Austrian'],\n",
       " 'BeginDate': [1841],\n",
       " 'EndDate': [1918],\n",
       " 'Gender': ['male'],\n",
       " 'Date': '1896',\n",
       " 'Medium': 'Ink and cut-and-pasted painted pages on paper',\n",
       " 'Dimensions': '19 1/8 x 66 1/2\" (48.6 x 168.9 cm)',\n",
       " 'CreditLine': 'Fractional and promised gift of Jo Carole and Ronald S. Lauder',\n",
       " 'AccessionNumber': '885.1996',\n",
       " 'Classification': 'Architecture',\n",
       " 'Department': 'Architecture & Design',\n",
       " 'DateAcquired': '1996-04-09',\n",
       " 'Cataloged': 'Y',\n",
       " 'ObjectID': 2,\n",
       " 'URL': 'https://www.moma.org/collection/works/2',\n",
       " 'ImageURL': 'https://www.moma.org/media/W1siZiIsIjUyNzc3MCJdLFsicCIsImNvbnZlcnQiLCItcmVzaXplIDEwMjR4MTAyNFx1MDAzZSJdXQ.jpg?sha=712ac0fd74ea5bd5',\n",
       " 'OnView': '',\n",
       " 'Height (cm)': 48.6,\n",
       " 'Width (cm)': 168.9}"
      ]
     },
     "execution_count": 20,
     "metadata": {},
     "output_type": "execute_result"
    }
   ],
   "source": [
    "temp_data[0]"
   ]
  },
  {
   "cell_type": "code",
   "execution_count": 2,
   "metadata": {},
   "outputs": [
    {
     "data": {
      "text/plain": [
       "'a'"
      ]
     },
     "execution_count": 2,
     "metadata": {},
     "output_type": "execute_result"
    }
   ],
   "source": [
    "\"A\".lower()"
   ]
  },
  {
   "cell_type": "code",
   "execution_count": 14,
   "metadata": {},
   "outputs": [],
   "source": [
    "painting = [\"Oil\",\"canvas\",\"Crayon\",\"acrylic\",\"watercolor\",\"airbrush\",\"Paint\",  \"pencil\",\"print\", \"Photographic\", \"Charcoal\"]\n",
    "sculpture = [\"silver\"]\n",
    "other = [\"tracing paper\", \"ink\", \"Graphite\",  \"Lithograph\",\"Photolithograph\"]"
   ]
  },
  {
   "cell_type": "code",
   "execution_count": 15,
   "metadata": {},
   "outputs": [],
   "source": [
    "def guess_style(y):\n",
    "    if y is None: return 'other'\n",
    "    \n",
    "    y = y.split(\"–\")[0].split(\"-\")[0].split(\" \")[0].split(\",\")[0].split('.')[0]\n",
    "    try:\n",
    "        y = int(y)    \n",
    "    except :\n",
    "        return 'other'\n",
    "    if y >1980:\n",
    "        return \"modern\"\n",
    "    elif y > 1900:\n",
    "        return \"classic\"\n",
    "    else:return \"ancient\"\n",
    "    \n",
    "def guess_epoch(y):\n",
    "    if y is None: return 'other'\n",
    "    \n",
    "    y = y.split(\"–\")[0].split(\"-\")[0].split(\" \")[0].split(\",\")[0].split('.')[0]\n",
    "    try:\n",
    "        y = int(y)    \n",
    "    except :\n",
    "        return 'other'\n",
    "    \n",
    "    if  y>1950:\n",
    "        return \"modern\"\n",
    "    else: return \"ancient\"\n",
    "def guess_art_type(medium):\n",
    "    if medium is None: return 'other'\n",
    "    i =0\n",
    "    j =0\n",
    "    k =0\n",
    "    \n",
    "    med = medium.split(' ')\n",
    "    for m in med:\n",
    "        for paint in painting:\n",
    "            if paint.lower() in m.lower():\n",
    "                i+=1\n",
    "        for sc in sculpture:\n",
    "            if sc.lower() in m.lower():\n",
    "                j+=1\n",
    "        for ot in other:\n",
    "            if ot.lower() in m.lower():\n",
    "                k+=1\n",
    "    if i > j and i > k: return 'painting'\n",
    "    elif j > i and j > k: return 'sculpture'\n",
    "    else: return 'other'    \n",
    "        "
   ]
  },
  {
   "cell_type": "code",
   "execution_count": 16,
   "metadata": {},
   "outputs": [],
   "source": [
    "import random"
   ]
  },
  {
   "cell_type": "code",
   "execution_count": 36,
   "metadata": {},
   "outputs": [
    {
     "data": {
      "text/plain": [
       "['1926', '1928']"
      ]
     },
     "execution_count": 36,
     "metadata": {},
     "output_type": "execute_result"
    }
   ],
   "source": [
    "\"1926-1928\".split(\"–\")[0].split(\"-\")"
   ]
  },
  {
   "cell_type": "code",
   "execution_count": 23,
   "metadata": {},
   "outputs": [],
   "source": [
    "# first taking the name of artist\n",
    "data_for_upload = []\n",
    "i = 0\n",
    "for artist in artists:\n",
    "    for art_object in temp_data:\n",
    "        if 'Artist' in  art_object:\n",
    "            if isinstance(art_object['Artist'], list) and len(art_object['Artist']) > 0:\n",
    "                if artist['name'] == art_object['Artist'][0]:\n",
    "                    title = None\n",
    "                    year = None\n",
    "                    medium = None\n",
    "                    dimensions = None\n",
    "                    description = None\n",
    "                    department = None\n",
    "                    image = None\n",
    "                    height = None\n",
    "                    width = None\n",
    "                    \n",
    "                    if 'Title' in art_object:\n",
    "                        title = art_object['Title'] \n",
    "                    if 'Date' in art_object:\n",
    "                        year = art_object['Date']\n",
    "                    if 'Medium' in art_object:\n",
    "                        medium = art_object['Medium']\n",
    "                    \n",
    "                    if 'Dimensions' in art_object:\n",
    "                        dimensions = art_object['Dimensions']\n",
    "                    if 'CreditLine' in art_object:\n",
    "                        description = art_object['CreditLine']  \n",
    "                    if 'Department' in art_object:\n",
    "                        department = art_object['Department']\n",
    "                    if 'ImageURL' in art_object:\n",
    "                        image = art_object[\"ImageURL\"]\n",
    "                    if 'Height (cm)' in art_object:\n",
    "                        height = str(art_object[\"Height (cm)\"])\n",
    "                    if 'Width (cm)' in art_object:\n",
    "                        width = str(art_object[\"Width (cm)\"])\n",
    "                    \n",
    "                    type_ =guess_art_type(art_object['Medium']) \n",
    "                    epoch = guess_epoch(year)\n",
    "                    style = guess_style(year)\n",
    "                    t = {\n",
    "                        \"title\":title, \n",
    "                        \"year\":year,\n",
    "                        \"medium\":medium,\n",
    "                        \"dimensions\":dimensions,\n",
    "                        \"description\":description,\n",
    "                        \"department\":department,\n",
    "                        \"image\":image,\n",
    "            \n",
    "                        \n",
    "                        \"artist_id\":artist['id'],\n",
    "                        \"origin_country\":None,\n",
    "                        \"object_type\":type_,\n",
    "                        \"epoch\":epoch,\n",
    "                        \"style\":style,\n",
    "                        # for sculpture\n",
    "                        \"material\":None,\n",
    "                        \"height\":height,\n",
    "                        \"width\":width,\n",
    "                        \"weight\":None,\n",
    "                        \"paint_type\": [\"Oil\",\"Crayon\",\"acrylic\",\"watercolor\",  \"pencil\",  \"Charcoal\"][random.randint(0,5)],\n",
    "                        \"drawn_on\": [\"canvas\",\"print\", \"Photographic\", ][random.randint(0, 2)],\n",
    "                        \"type\":style,\n",
    "                    }\n",
    "                    i += 1\n",
    "                    \n",
    "                    if i == 10:\n",
    "                        break\n",
    "                    data_for_upload.append(t)\n",
    "                \n"
   ]
  },
  {
   "cell_type": "code",
   "execution_count": 24,
   "metadata": {},
   "outputs": [
    {
     "name": "stdout",
     "output_type": "stream",
     "text": [
      "1957\n"
     ]
    },
    {
     "data": {
      "text/plain": [
       "1957"
      ]
     },
     "execution_count": 24,
     "metadata": {},
     "output_type": "execute_result"
    }
   ],
   "source": [
    "print(len(data_for_upload))\n",
    "len(data_for_upload)\n"
   ]
  },
  {
   "cell_type": "code",
   "execution_count": 66,
   "metadata": {},
   "outputs": [
    {
     "name": "stdout",
     "output_type": "stream",
     "text": [
      "Error downloading image: 403 Client Error: Forbidden for url: https://www.moma.org/media/W1siZiIsIjUxNzkyNyJdLFsicCIsImNvbnZlcnQiLCItcmVzaXplIDEwMjR4MTAyNFx1MDAzZSJdXQ.jpg?sha=f94460422c7c8dcf\n"
     ]
    }
   ],
   "source": []
  },
  {
   "cell_type": "code",
   "execution_count": 25,
   "metadata": {},
   "outputs": [
    {
     "name": "stdout",
     "output_type": "stream",
     "text": [
      "temp.jpg\n"
     ]
    }
   ],
   "source": [
    "\n",
    "def download_image(url):\n",
    "    filename = 'temp.jpg'\n",
    "    headers = {\n",
    "        \"User-Agent\": \"Mozilla/5.0 (Windows NT 10.0; Win64; x64) AppleWebKit/537.36 (KHTML, like Gecko) Chrome/91.0.4472.124 Safari/537.36\"\n",
    "    }\n",
    "    \n",
    "    response = requests.get(url, headers=headers)\n",
    "    \n",
    "    if response.status_code == 200:\n",
    "        with open(filename, 'wb') as f:\n",
    "            f.write(response.content)\n",
    "        f.close()\n",
    "        return filename\n",
    "    else:\n",
    "        return None\n",
    "# Example usage:\n",
    "image_url = \"https://www.moma.org/media/W1siZiIsIjUxNzkyNyJdLFsicCIsImNvbnZlcnQiLCItcmVzaXplIDEwMjR4MTAyNFx1MDAzZSJdXQ.jpg?sha=f94460422c7c8dcf\"\n",
    " \n",
    "res = download_image(image_url)\n",
    "print(res)"
   ]
  },
  {
   "cell_type": "code",
   "execution_count": 28,
   "metadata": {},
   "outputs": [
    {
     "data": {
      "text/plain": [
       "1957"
      ]
     },
     "execution_count": 28,
     "metadata": {},
     "output_type": "execute_result"
    }
   ],
   "source": [
    "len(data_for_upload)"
   ]
  },
  {
   "cell_type": "code",
   "execution_count": 75,
   "metadata": {},
   "outputs": [
    {
     "data": {
      "text/plain": [
       "{'title': 'Study for Head Bath',\n",
       " 'description': 'Gift of the Friends of Contemporary Drawing',\n",
       " 'dimensions': '41 5/8 x 29 7/8\" (105.8 x 75.8 cm)',\n",
       " 'department': 'Drawings & Prints',\n",
       " 'style': 'classic',\n",
       " 'epoch': 'modern',\n",
       " 'origin_country': None,\n",
       " 'year': '1977',\n",
       " 'artist_id': '8bac6e53-bd66-4928-bb9d-73e4a8f2b901',\n",
       " 'paint_type': 'pencil',\n",
       " 'drawn_on': 'canvas'}"
      ]
     },
     "execution_count": 75,
     "metadata": {},
     "output_type": "execute_result"
    }
   ],
   "source": [
    "for data in data_for_upload:\n",
    "    body = {\n",
    "            'title':data['title'],\n",
    "            'description':data['description'],\n",
    "            'dimensions':data['dimensions'],\n",
    "            'department':data['department'],\n",
    "            'style':data['style'],\n",
    "            'epoch':data['epoch'],\n",
    "            'origin_country':data['origin_country'],\n",
    "            'year':data['year'],\n",
    "            'artist_id':data['artist_id'],\n",
    "            'paint_type':data['paint_type'],\n",
    "            'drawn_on':data['drawn_on'],\n",
    "        }\n",
    "    break\n",
    "body"
   ]
  },
  {
   "cell_type": "code",
   "execution_count": 30,
   "metadata": {},
   "outputs": [
    {
     "name": "stdout",
     "output_type": "stream",
     "text": [
      "dont till:75\n",
      "exception: ('Connection broken: IncompleteRead(59392 bytes read, 69890 more expected)', IncompleteRead(59392 bytes read, 69890 more expected))\n"
     ]
    },
    {
     "ename": "KeyboardInterrupt",
     "evalue": "",
     "output_type": "error",
     "traceback": [
      "\u001b[1;31m---------------------------------------------------------------------------\u001b[0m",
      "\u001b[1;31mKeyboardInterrupt\u001b[0m                         Traceback (most recent call last)",
      "Cell \u001b[1;32mIn[30], line 41\u001b[0m\n\u001b[0;32m     33\u001b[0m             files \u001b[38;5;241m=\u001b[39m {\n\u001b[0;32m     34\u001b[0m                 \u001b[38;5;124m'\u001b[39m\u001b[38;5;124mfiles\u001b[39m\u001b[38;5;124m'\u001b[39m:  [\u001b[38;5;124m'\u001b[39m\u001b[38;5;124mimg\u001b[39m\u001b[38;5;124m'\u001b[39m, \u001b[38;5;28mopen\u001b[39m(img_path, \u001b[38;5;124m'\u001b[39m\u001b[38;5;124mrb\u001b[39m\u001b[38;5;124m'\u001b[39m)]\n\u001b[0;32m     35\u001b[0m             }\n\u001b[0;32m     37\u001b[0m         headers \u001b[38;5;241m=\u001b[39m {\n\u001b[0;32m     38\u001b[0m             \u001b[38;5;124m'\u001b[39m\u001b[38;5;124maccept\u001b[39m\u001b[38;5;124m'\u001b[39m: \u001b[38;5;124m'\u001b[39m\u001b[38;5;124mapplication/json\u001b[39m\u001b[38;5;124m'\u001b[39m,\n\u001b[0;32m     39\u001b[0m         }\n\u001b[1;32m---> 41\u001b[0m         response \u001b[38;5;241m=\u001b[39m \u001b[43mrequests\u001b[49m\u001b[38;5;241;43m.\u001b[39;49m\u001b[43mpost\u001b[49m\u001b[43m(\u001b[49m\u001b[43murl\u001b[49m\u001b[43m,\u001b[49m\u001b[43m \u001b[49m\u001b[43mdata\u001b[49m\u001b[38;5;241;43m=\u001b[39;49m\u001b[43mdata\u001b[49m\u001b[43m,\u001b[49m\u001b[43m \u001b[49m\u001b[43mfiles\u001b[49m\u001b[38;5;241;43m=\u001b[39;49m\u001b[43mfiles\u001b[49m\u001b[43m,\u001b[49m\u001b[43m \u001b[49m\u001b[43mheaders\u001b[49m\u001b[38;5;241;43m=\u001b[39;49m\u001b[43mheaders\u001b[49m\u001b[43m)\u001b[49m\n\u001b[0;32m     43\u001b[0m         index\u001b[38;5;241m+\u001b[39m\u001b[38;5;241m=\u001b[39m\u001b[38;5;241m1\u001b[39m\n\u001b[0;32m     44\u001b[0m \u001b[38;5;28;01mexcept\u001b[39;00m \u001b[38;5;167;01mException\u001b[39;00m \u001b[38;5;28;01mas\u001b[39;00m e:\n",
      "File \u001b[1;32mc:\\Users\\Lenovo\\.conda\\envs\\mix\\lib\\site-packages\\requests\\api.py:115\u001b[0m, in \u001b[0;36mpost\u001b[1;34m(url, data, json, **kwargs)\u001b[0m\n\u001b[0;32m    103\u001b[0m \u001b[38;5;28;01mdef\u001b[39;00m \u001b[38;5;21mpost\u001b[39m(url, data\u001b[38;5;241m=\u001b[39m\u001b[38;5;28;01mNone\u001b[39;00m, json\u001b[38;5;241m=\u001b[39m\u001b[38;5;28;01mNone\u001b[39;00m, \u001b[38;5;241m*\u001b[39m\u001b[38;5;241m*\u001b[39mkwargs):\n\u001b[0;32m    104\u001b[0m \u001b[38;5;250m    \u001b[39m\u001b[38;5;124mr\u001b[39m\u001b[38;5;124;03m\"\"\"Sends a POST request.\u001b[39;00m\n\u001b[0;32m    105\u001b[0m \n\u001b[0;32m    106\u001b[0m \u001b[38;5;124;03m    :param url: URL for the new :class:`Request` object.\u001b[39;00m\n\u001b[1;32m   (...)\u001b[0m\n\u001b[0;32m    112\u001b[0m \u001b[38;5;124;03m    :rtype: requests.Response\u001b[39;00m\n\u001b[0;32m    113\u001b[0m \u001b[38;5;124;03m    \"\"\"\u001b[39;00m\n\u001b[1;32m--> 115\u001b[0m     \u001b[38;5;28;01mreturn\u001b[39;00m request(\u001b[38;5;124m\"\u001b[39m\u001b[38;5;124mpost\u001b[39m\u001b[38;5;124m\"\u001b[39m, url, data\u001b[38;5;241m=\u001b[39mdata, json\u001b[38;5;241m=\u001b[39mjson, \u001b[38;5;241m*\u001b[39m\u001b[38;5;241m*\u001b[39mkwargs)\n",
      "File \u001b[1;32mc:\\Users\\Lenovo\\.conda\\envs\\mix\\lib\\site-packages\\requests\\api.py:59\u001b[0m, in \u001b[0;36mrequest\u001b[1;34m(method, url, **kwargs)\u001b[0m\n\u001b[0;32m     55\u001b[0m \u001b[38;5;66;03m# By using the 'with' statement we are sure the session is closed, thus we\u001b[39;00m\n\u001b[0;32m     56\u001b[0m \u001b[38;5;66;03m# avoid leaving sockets open which can trigger a ResourceWarning in some\u001b[39;00m\n\u001b[0;32m     57\u001b[0m \u001b[38;5;66;03m# cases, and look like a memory leak in others.\u001b[39;00m\n\u001b[0;32m     58\u001b[0m \u001b[38;5;28;01mwith\u001b[39;00m sessions\u001b[38;5;241m.\u001b[39mSession() \u001b[38;5;28;01mas\u001b[39;00m session:\n\u001b[1;32m---> 59\u001b[0m     \u001b[38;5;28;01mreturn\u001b[39;00m session\u001b[38;5;241m.\u001b[39mrequest(method\u001b[38;5;241m=\u001b[39mmethod, url\u001b[38;5;241m=\u001b[39murl, \u001b[38;5;241m*\u001b[39m\u001b[38;5;241m*\u001b[39mkwargs)\n",
      "File \u001b[1;32mc:\\Users\\Lenovo\\.conda\\envs\\mix\\lib\\site-packages\\requests\\sessions.py:589\u001b[0m, in \u001b[0;36mSession.request\u001b[1;34m(self, method, url, params, data, headers, cookies, files, auth, timeout, allow_redirects, proxies, hooks, stream, verify, cert, json)\u001b[0m\n\u001b[0;32m    584\u001b[0m send_kwargs \u001b[38;5;241m=\u001b[39m {\n\u001b[0;32m    585\u001b[0m     \u001b[38;5;124m\"\u001b[39m\u001b[38;5;124mtimeout\u001b[39m\u001b[38;5;124m\"\u001b[39m: timeout,\n\u001b[0;32m    586\u001b[0m     \u001b[38;5;124m\"\u001b[39m\u001b[38;5;124mallow_redirects\u001b[39m\u001b[38;5;124m\"\u001b[39m: allow_redirects,\n\u001b[0;32m    587\u001b[0m }\n\u001b[0;32m    588\u001b[0m send_kwargs\u001b[38;5;241m.\u001b[39mupdate(settings)\n\u001b[1;32m--> 589\u001b[0m resp \u001b[38;5;241m=\u001b[39m \u001b[38;5;28mself\u001b[39m\u001b[38;5;241m.\u001b[39msend(prep, \u001b[38;5;241m*\u001b[39m\u001b[38;5;241m*\u001b[39msend_kwargs)\n\u001b[0;32m    591\u001b[0m \u001b[38;5;28;01mreturn\u001b[39;00m resp\n",
      "File \u001b[1;32mc:\\Users\\Lenovo\\.conda\\envs\\mix\\lib\\site-packages\\requests\\sessions.py:703\u001b[0m, in \u001b[0;36mSession.send\u001b[1;34m(self, request, **kwargs)\u001b[0m\n\u001b[0;32m    700\u001b[0m start \u001b[38;5;241m=\u001b[39m preferred_clock()\n\u001b[0;32m    702\u001b[0m \u001b[38;5;66;03m# Send the request\u001b[39;00m\n\u001b[1;32m--> 703\u001b[0m r \u001b[38;5;241m=\u001b[39m adapter\u001b[38;5;241m.\u001b[39msend(request, \u001b[38;5;241m*\u001b[39m\u001b[38;5;241m*\u001b[39mkwargs)\n\u001b[0;32m    705\u001b[0m \u001b[38;5;66;03m# Total elapsed time of the request (approximately)\u001b[39;00m\n\u001b[0;32m    706\u001b[0m elapsed \u001b[38;5;241m=\u001b[39m preferred_clock() \u001b[38;5;241m-\u001b[39m start\n",
      "File \u001b[1;32mc:\\Users\\Lenovo\\.conda\\envs\\mix\\lib\\site-packages\\requests\\adapters.py:667\u001b[0m, in \u001b[0;36mHTTPAdapter.send\u001b[1;34m(self, request, stream, timeout, verify, cert, proxies)\u001b[0m\n\u001b[0;32m    664\u001b[0m     timeout \u001b[38;5;241m=\u001b[39m TimeoutSauce(connect\u001b[38;5;241m=\u001b[39mtimeout, read\u001b[38;5;241m=\u001b[39mtimeout)\n\u001b[0;32m    666\u001b[0m \u001b[38;5;28;01mtry\u001b[39;00m:\n\u001b[1;32m--> 667\u001b[0m     resp \u001b[38;5;241m=\u001b[39m \u001b[43mconn\u001b[49m\u001b[38;5;241;43m.\u001b[39;49m\u001b[43murlopen\u001b[49m\u001b[43m(\u001b[49m\n\u001b[0;32m    668\u001b[0m \u001b[43m        \u001b[49m\u001b[43mmethod\u001b[49m\u001b[38;5;241;43m=\u001b[39;49m\u001b[43mrequest\u001b[49m\u001b[38;5;241;43m.\u001b[39;49m\u001b[43mmethod\u001b[49m\u001b[43m,\u001b[49m\n\u001b[0;32m    669\u001b[0m \u001b[43m        \u001b[49m\u001b[43murl\u001b[49m\u001b[38;5;241;43m=\u001b[39;49m\u001b[43murl\u001b[49m\u001b[43m,\u001b[49m\n\u001b[0;32m    670\u001b[0m \u001b[43m        \u001b[49m\u001b[43mbody\u001b[49m\u001b[38;5;241;43m=\u001b[39;49m\u001b[43mrequest\u001b[49m\u001b[38;5;241;43m.\u001b[39;49m\u001b[43mbody\u001b[49m\u001b[43m,\u001b[49m\n\u001b[0;32m    671\u001b[0m \u001b[43m        \u001b[49m\u001b[43mheaders\u001b[49m\u001b[38;5;241;43m=\u001b[39;49m\u001b[43mrequest\u001b[49m\u001b[38;5;241;43m.\u001b[39;49m\u001b[43mheaders\u001b[49m\u001b[43m,\u001b[49m\n\u001b[0;32m    672\u001b[0m \u001b[43m        \u001b[49m\u001b[43mredirect\u001b[49m\u001b[38;5;241;43m=\u001b[39;49m\u001b[38;5;28;43;01mFalse\u001b[39;49;00m\u001b[43m,\u001b[49m\n\u001b[0;32m    673\u001b[0m \u001b[43m        \u001b[49m\u001b[43massert_same_host\u001b[49m\u001b[38;5;241;43m=\u001b[39;49m\u001b[38;5;28;43;01mFalse\u001b[39;49;00m\u001b[43m,\u001b[49m\n\u001b[0;32m    674\u001b[0m \u001b[43m        \u001b[49m\u001b[43mpreload_content\u001b[49m\u001b[38;5;241;43m=\u001b[39;49m\u001b[38;5;28;43;01mFalse\u001b[39;49;00m\u001b[43m,\u001b[49m\n\u001b[0;32m    675\u001b[0m \u001b[43m        \u001b[49m\u001b[43mdecode_content\u001b[49m\u001b[38;5;241;43m=\u001b[39;49m\u001b[38;5;28;43;01mFalse\u001b[39;49;00m\u001b[43m,\u001b[49m\n\u001b[0;32m    676\u001b[0m \u001b[43m        \u001b[49m\u001b[43mretries\u001b[49m\u001b[38;5;241;43m=\u001b[39;49m\u001b[38;5;28;43mself\u001b[39;49m\u001b[38;5;241;43m.\u001b[39;49m\u001b[43mmax_retries\u001b[49m\u001b[43m,\u001b[49m\n\u001b[0;32m    677\u001b[0m \u001b[43m        \u001b[49m\u001b[43mtimeout\u001b[49m\u001b[38;5;241;43m=\u001b[39;49m\u001b[43mtimeout\u001b[49m\u001b[43m,\u001b[49m\n\u001b[0;32m    678\u001b[0m \u001b[43m        \u001b[49m\u001b[43mchunked\u001b[49m\u001b[38;5;241;43m=\u001b[39;49m\u001b[43mchunked\u001b[49m\u001b[43m,\u001b[49m\n\u001b[0;32m    679\u001b[0m \u001b[43m    \u001b[49m\u001b[43m)\u001b[49m\n\u001b[0;32m    681\u001b[0m \u001b[38;5;28;01mexcept\u001b[39;00m (ProtocolError, \u001b[38;5;167;01mOSError\u001b[39;00m) \u001b[38;5;28;01mas\u001b[39;00m err:\n\u001b[0;32m    682\u001b[0m     \u001b[38;5;28;01mraise\u001b[39;00m \u001b[38;5;167;01mConnectionError\u001b[39;00m(err, request\u001b[38;5;241m=\u001b[39mrequest)\n",
      "File \u001b[1;32mc:\\Users\\Lenovo\\.conda\\envs\\mix\\lib\\site-packages\\urllib3\\connectionpool.py:793\u001b[0m, in \u001b[0;36mHTTPConnectionPool.urlopen\u001b[1;34m(self, method, url, body, headers, retries, redirect, assert_same_host, timeout, pool_timeout, release_conn, chunked, body_pos, preload_content, decode_content, **response_kw)\u001b[0m\n\u001b[0;32m    790\u001b[0m response_conn \u001b[38;5;241m=\u001b[39m conn \u001b[38;5;28;01mif\u001b[39;00m \u001b[38;5;129;01mnot\u001b[39;00m release_conn \u001b[38;5;28;01melse\u001b[39;00m \u001b[38;5;28;01mNone\u001b[39;00m\n\u001b[0;32m    792\u001b[0m \u001b[38;5;66;03m# Make the request on the HTTPConnection object\u001b[39;00m\n\u001b[1;32m--> 793\u001b[0m response \u001b[38;5;241m=\u001b[39m \u001b[38;5;28mself\u001b[39m\u001b[38;5;241m.\u001b[39m_make_request(\n\u001b[0;32m    794\u001b[0m     conn,\n\u001b[0;32m    795\u001b[0m     method,\n\u001b[0;32m    796\u001b[0m     url,\n\u001b[0;32m    797\u001b[0m     timeout\u001b[38;5;241m=\u001b[39mtimeout_obj,\n\u001b[0;32m    798\u001b[0m     body\u001b[38;5;241m=\u001b[39mbody,\n\u001b[0;32m    799\u001b[0m     headers\u001b[38;5;241m=\u001b[39mheaders,\n\u001b[0;32m    800\u001b[0m     chunked\u001b[38;5;241m=\u001b[39mchunked,\n\u001b[0;32m    801\u001b[0m     retries\u001b[38;5;241m=\u001b[39mretries,\n\u001b[0;32m    802\u001b[0m     response_conn\u001b[38;5;241m=\u001b[39mresponse_conn,\n\u001b[0;32m    803\u001b[0m     preload_content\u001b[38;5;241m=\u001b[39mpreload_content,\n\u001b[0;32m    804\u001b[0m     decode_content\u001b[38;5;241m=\u001b[39mdecode_content,\n\u001b[0;32m    805\u001b[0m     \u001b[38;5;241m*\u001b[39m\u001b[38;5;241m*\u001b[39mresponse_kw,\n\u001b[0;32m    806\u001b[0m )\n\u001b[0;32m    808\u001b[0m \u001b[38;5;66;03m# Everything went great!\u001b[39;00m\n\u001b[0;32m    809\u001b[0m clean_exit \u001b[38;5;241m=\u001b[39m \u001b[38;5;28;01mTrue\u001b[39;00m\n",
      "File \u001b[1;32mc:\\Users\\Lenovo\\.conda\\envs\\mix\\lib\\site-packages\\urllib3\\connectionpool.py:537\u001b[0m, in \u001b[0;36mHTTPConnectionPool._make_request\u001b[1;34m(self, conn, method, url, body, headers, retries, timeout, chunked, response_conn, preload_content, decode_content, enforce_content_length)\u001b[0m\n\u001b[0;32m    535\u001b[0m \u001b[38;5;66;03m# Receive the response from the server\u001b[39;00m\n\u001b[0;32m    536\u001b[0m \u001b[38;5;28;01mtry\u001b[39;00m:\n\u001b[1;32m--> 537\u001b[0m     response \u001b[38;5;241m=\u001b[39m \u001b[43mconn\u001b[49m\u001b[38;5;241;43m.\u001b[39;49m\u001b[43mgetresponse\u001b[49m\u001b[43m(\u001b[49m\u001b[43m)\u001b[49m\n\u001b[0;32m    538\u001b[0m \u001b[38;5;28;01mexcept\u001b[39;00m (BaseSSLError, \u001b[38;5;167;01mOSError\u001b[39;00m) \u001b[38;5;28;01mas\u001b[39;00m e:\n\u001b[0;32m    539\u001b[0m     \u001b[38;5;28mself\u001b[39m\u001b[38;5;241m.\u001b[39m_raise_timeout(err\u001b[38;5;241m=\u001b[39me, url\u001b[38;5;241m=\u001b[39murl, timeout_value\u001b[38;5;241m=\u001b[39mread_timeout)\n",
      "File \u001b[1;32mc:\\Users\\Lenovo\\.conda\\envs\\mix\\lib\\site-packages\\urllib3\\connection.py:466\u001b[0m, in \u001b[0;36mHTTPConnection.getresponse\u001b[1;34m(self)\u001b[0m\n\u001b[0;32m    463\u001b[0m \u001b[38;5;28;01mfrom\u001b[39;00m \u001b[38;5;21;01m.\u001b[39;00m\u001b[38;5;21;01mresponse\u001b[39;00m \u001b[38;5;28;01mimport\u001b[39;00m HTTPResponse\n\u001b[0;32m    465\u001b[0m \u001b[38;5;66;03m# Get the response from http.client.HTTPConnection\u001b[39;00m\n\u001b[1;32m--> 466\u001b[0m httplib_response \u001b[38;5;241m=\u001b[39m \u001b[38;5;28;43msuper\u001b[39;49m\u001b[43m(\u001b[49m\u001b[43m)\u001b[49m\u001b[38;5;241;43m.\u001b[39;49m\u001b[43mgetresponse\u001b[49m\u001b[43m(\u001b[49m\u001b[43m)\u001b[49m\n\u001b[0;32m    468\u001b[0m \u001b[38;5;28;01mtry\u001b[39;00m:\n\u001b[0;32m    469\u001b[0m     assert_header_parsing(httplib_response\u001b[38;5;241m.\u001b[39mmsg)\n",
      "File \u001b[1;32mc:\\Users\\Lenovo\\.conda\\envs\\mix\\lib\\http\\client.py:1375\u001b[0m, in \u001b[0;36mHTTPConnection.getresponse\u001b[1;34m(self)\u001b[0m\n\u001b[0;32m   1373\u001b[0m \u001b[38;5;28;01mtry\u001b[39;00m:\n\u001b[0;32m   1374\u001b[0m     \u001b[38;5;28;01mtry\u001b[39;00m:\n\u001b[1;32m-> 1375\u001b[0m         \u001b[43mresponse\u001b[49m\u001b[38;5;241;43m.\u001b[39;49m\u001b[43mbegin\u001b[49m\u001b[43m(\u001b[49m\u001b[43m)\u001b[49m\n\u001b[0;32m   1376\u001b[0m     \u001b[38;5;28;01mexcept\u001b[39;00m \u001b[38;5;167;01mConnectionError\u001b[39;00m:\n\u001b[0;32m   1377\u001b[0m         \u001b[38;5;28mself\u001b[39m\u001b[38;5;241m.\u001b[39mclose()\n",
      "File \u001b[1;32mc:\\Users\\Lenovo\\.conda\\envs\\mix\\lib\\http\\client.py:318\u001b[0m, in \u001b[0;36mHTTPResponse.begin\u001b[1;34m(self)\u001b[0m\n\u001b[0;32m    316\u001b[0m \u001b[38;5;66;03m# read until we get a non-100 response\u001b[39;00m\n\u001b[0;32m    317\u001b[0m \u001b[38;5;28;01mwhile\u001b[39;00m \u001b[38;5;28;01mTrue\u001b[39;00m:\n\u001b[1;32m--> 318\u001b[0m     version, status, reason \u001b[38;5;241m=\u001b[39m \u001b[38;5;28;43mself\u001b[39;49m\u001b[38;5;241;43m.\u001b[39;49m\u001b[43m_read_status\u001b[49m\u001b[43m(\u001b[49m\u001b[43m)\u001b[49m\n\u001b[0;32m    319\u001b[0m     \u001b[38;5;28;01mif\u001b[39;00m status \u001b[38;5;241m!=\u001b[39m CONTINUE:\n\u001b[0;32m    320\u001b[0m         \u001b[38;5;28;01mbreak\u001b[39;00m\n",
      "File \u001b[1;32mc:\\Users\\Lenovo\\.conda\\envs\\mix\\lib\\http\\client.py:279\u001b[0m, in \u001b[0;36mHTTPResponse._read_status\u001b[1;34m(self)\u001b[0m\n\u001b[0;32m    278\u001b[0m \u001b[38;5;28;01mdef\u001b[39;00m \u001b[38;5;21m_read_status\u001b[39m(\u001b[38;5;28mself\u001b[39m):\n\u001b[1;32m--> 279\u001b[0m     line \u001b[38;5;241m=\u001b[39m \u001b[38;5;28mstr\u001b[39m(\u001b[38;5;28;43mself\u001b[39;49m\u001b[38;5;241;43m.\u001b[39;49m\u001b[43mfp\u001b[49m\u001b[38;5;241;43m.\u001b[39;49m\u001b[43mreadline\u001b[49m\u001b[43m(\u001b[49m\u001b[43m_MAXLINE\u001b[49m\u001b[43m \u001b[49m\u001b[38;5;241;43m+\u001b[39;49m\u001b[43m \u001b[49m\u001b[38;5;241;43m1\u001b[39;49m\u001b[43m)\u001b[49m, \u001b[38;5;124m\"\u001b[39m\u001b[38;5;124miso-8859-1\u001b[39m\u001b[38;5;124m\"\u001b[39m)\n\u001b[0;32m    280\u001b[0m     \u001b[38;5;28;01mif\u001b[39;00m \u001b[38;5;28mlen\u001b[39m(line) \u001b[38;5;241m>\u001b[39m _MAXLINE:\n\u001b[0;32m    281\u001b[0m         \u001b[38;5;28;01mraise\u001b[39;00m LineTooLong(\u001b[38;5;124m\"\u001b[39m\u001b[38;5;124mstatus line\u001b[39m\u001b[38;5;124m\"\u001b[39m)\n",
      "File \u001b[1;32mc:\\Users\\Lenovo\\.conda\\envs\\mix\\lib\\socket.py:705\u001b[0m, in \u001b[0;36mSocketIO.readinto\u001b[1;34m(self, b)\u001b[0m\n\u001b[0;32m    703\u001b[0m \u001b[38;5;28;01mwhile\u001b[39;00m \u001b[38;5;28;01mTrue\u001b[39;00m:\n\u001b[0;32m    704\u001b[0m     \u001b[38;5;28;01mtry\u001b[39;00m:\n\u001b[1;32m--> 705\u001b[0m         \u001b[38;5;28;01mreturn\u001b[39;00m \u001b[38;5;28;43mself\u001b[39;49m\u001b[38;5;241;43m.\u001b[39;49m\u001b[43m_sock\u001b[49m\u001b[38;5;241;43m.\u001b[39;49m\u001b[43mrecv_into\u001b[49m\u001b[43m(\u001b[49m\u001b[43mb\u001b[49m\u001b[43m)\u001b[49m\n\u001b[0;32m    706\u001b[0m     \u001b[38;5;28;01mexcept\u001b[39;00m timeout:\n\u001b[0;32m    707\u001b[0m         \u001b[38;5;28mself\u001b[39m\u001b[38;5;241m.\u001b[39m_timeout_occurred \u001b[38;5;241m=\u001b[39m \u001b[38;5;28;01mTrue\u001b[39;00m\n",
      "\u001b[1;31mKeyboardInterrupt\u001b[0m: "
     ]
    }
   ],
   "source": [
    "import time\n",
    "url_sculpture = \"http://localhost:8000/api/v1/museum/create/art_object/sculpture\"\n",
    "url_painting = \"http://localhost:8000/api/v1/museum/create/art_object/painting\"\n",
    "url_other_art = \"http://localhost:8000/api/v1/museum/create/art_object/other_art\"\n",
    "\n",
    "index=0\n",
    "for data in data_for_upload[700:999]:\n",
    "    try:\n",
    "        if data['object_type'] == 'other':\n",
    "            url = url_sculpture\n",
    "            body = {\n",
    "                'title':data['title'],\n",
    "                'description':data['description'],\n",
    "                'dimensions':data['dimensions'],\n",
    "                'department':data['department'],\n",
    "                'style':data['style'],\n",
    "                'epoch':data['epoch'],\n",
    "                'origin_country':data['origin_country'],\n",
    "                'year':data['year'],\n",
    "                'artist_id':data['artist_id'],\n",
    "                'material':data['material'],\n",
    "                'height':data['height'],\n",
    "                'width':data['width'],\n",
    "                'weight':data['weight'],    \n",
    "            }\n",
    "            if data['image'] is None:\n",
    "                files = {\n",
    "                    'files': None\n",
    "                }\n",
    "            else:\n",
    "                img_path = download_image(data['image'])\n",
    "                f = open(img_path, 'rb')\n",
    "                files = {\n",
    "                    'files':  ['img', open(img_path, 'rb')]\n",
    "                }\n",
    "\n",
    "            headers = {\n",
    "                'accept': 'application/json',\n",
    "            }\n",
    "\n",
    "            response = requests.post(url, data=data, files=files, headers=headers)\n",
    "            \n",
    "            index+=1\n",
    "    except Exception as e:\n",
    "        time.sleep(1)\n",
    "        print(f\"dont till:{index}\")\n",
    "        print(f\"exception: {e}\")\n",
    "        continue"
   ]
  }
 ],
 "metadata": {
  "kernelspec": {
   "display_name": "mix",
   "language": "python",
   "name": "python3"
  },
  "language_info": {
   "codemirror_mode": {
    "name": "ipython",
    "version": 3
   },
   "file_extension": ".py",
   "mimetype": "text/x-python",
   "name": "python",
   "nbconvert_exporter": "python",
   "pygments_lexer": "ipython3",
   "version": "3.10.14"
  }
 },
 "nbformat": 4,
 "nbformat_minor": 2
}
